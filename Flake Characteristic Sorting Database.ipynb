{
 "cells": [
  {
   "cell_type": "markdown",
   "id": "d439b988",
   "metadata": {},
   "source": [
    "## Flake Characteristic Sorting Database"
   ]
  },
  {
   "cell_type": "code",
   "execution_count": null,
   "id": "0e66eb48",
   "metadata": {},
   "outputs": [],
   "source": [
    "# take in folder of images - usable flakes\n",
    "# for loop runs through each image\n",
    "# info needed: magnification, length of longest side, flake characterization"
   ]
  },
  {
   "cell_type": "code",
   "execution_count": null,
   "id": "45b3da84",
   "metadata": {},
   "outputs": [],
   "source": [
    "# create matrix of characteristics: \n",
    "# cols = 4, rows = 100000 \n",
    "## img_char = [[None for c in range(cols)] for r in range(rows)]\n",
    "# img_char = [None for r in range(rows)]\n",
    "# nx4? - 4 characteristics: img name, magnification, longest side, flake category\n",
    "# for r in range(rows):\n",
    "#      img_char[r] = ['img_name', 'magnification', 'longest side', 'flake category']"
   ]
  },
  {
   "cell_type": "code",
   "execution_count": 1,
   "id": "16881ef2",
   "metadata": {},
   "outputs": [],
   "source": [
    "# code: find edges\n",
    "# output: x,y,w,h of bounding rectangles around contours"
   ]
  },
  {
   "cell_type": "code",
   "execution_count": null,
   "id": "fb145e7c",
   "metadata": {},
   "outputs": [],
   "source": [
    "# code: calculate length of longest side\n",
    "# output: length of longest side (number), bounding rect of contours w/in size range"
   ]
  },
  {
   "cell_type": "code",
   "execution_count": null,
   "id": "dbdc3ee6",
   "metadata": {},
   "outputs": [],
   "source": [
    "# code: classify flake thickenss\n",
    "# output: image file (image), flake category (quantitative), magnification (quantitative)\n",
    "# save characterstics to img "
   ]
  },
  {
   "cell_type": "code",
   "execution_count": null,
   "id": "7e22770d",
   "metadata": {},
   "outputs": [],
   "source": [
    "# write characteristics to csv file\n",
    "import csv\n",
    "\n",
    "file = open('flake_data.csv', 'w')\n",
    "\n",
    "writer = csv.writer(file)\n",
    "\n",
    "# for img in img_char: \n",
    "data = ['image', 'magnification', 'longest side', 'flake category']\n",
    "writer.writerow(data)\n",
    "\n",
    "file.close()"
   ]
  },
  {
   "cell_type": "code",
   "execution_count": 10,
   "id": "f7736067",
   "metadata": {},
   "outputs": [
    {
     "ename": "TypeError",
     "evalue": "unsupported operand type(s) for @: 'str' and 'str'",
     "output_type": "error",
     "traceback": [
      "\u001b[0;31m---------------------------------------------------------------------------\u001b[0m",
      "\u001b[0;31mTypeError\u001b[0m                                 Traceback (most recent call last)",
      "Input \u001b[0;32mIn [10]\u001b[0m, in \u001b[0;36m<cell line: 3>\u001b[0;34m()\u001b[0m\n\u001b[1;32m      1\u001b[0m \u001b[38;5;28;01mimport\u001b[39;00m \u001b[38;5;21;01mmysql\u001b[39;00m\u001b[38;5;21;01m.\u001b[39;00m\u001b[38;5;21;01mconnector\u001b[39;00m\n\u001b[1;32m      3\u001b[0m mydb \u001b[38;5;241m=\u001b[39m mysql\u001b[38;5;241m.\u001b[39mconnector\u001b[38;5;241m.\u001b[39mconnect(\n\u001b[1;32m      4\u001b[0m   host\u001b[38;5;241m=\u001b[39m\u001b[38;5;124m\"\u001b[39m\u001b[38;5;124mlocalhost\u001b[39m\u001b[38;5;124m\"\u001b[39m,\n\u001b[0;32m----> 5\u001b[0m   user\u001b[38;5;241m=\u001b[39m\u001b[38;5;124;43m'\u001b[39;49m\u001b[38;5;124;43m'\u001b[39;49m\u001b[38;5;241;43m@\u001b[39;49m\u001b[38;5;124;43m'\u001b[39;49m\u001b[38;5;124;43mlocalhost\u001b[39;49m\u001b[38;5;124;43m'\u001b[39;49m,\n\u001b[1;32m      6\u001b[0m   password\u001b[38;5;241m=\u001b[39m\u001b[38;5;124m\"\u001b[39m\u001b[38;5;124mKdaylearn23*\u001b[39m\u001b[38;5;124m\"\u001b[39m\n\u001b[1;32m      7\u001b[0m )\n\u001b[1;32m      9\u001b[0m \u001b[38;5;28mprint\u001b[39m(mydb)\n",
      "\u001b[0;31mTypeError\u001b[0m: unsupported operand type(s) for @: 'str' and 'str'"
     ]
    }
   ],
   "source": [
    "import mysql.connector\n",
    "\n",
    "mydb = mysql.connector.connect(\n",
    "  host=\"localhost\",\n",
    "  user=''@'localhost',\n",
    "  password=\"Kdaylearn23*\"\n",
    ")\n",
    "\n",
    "print(mydb)"
   ]
  },
  {
   "cell_type": "code",
   "execution_count": null,
   "id": "c14565fe",
   "metadata": {},
   "outputs": [],
   "source": []
  }
 ],
 "metadata": {
  "kernelspec": {
   "display_name": "Python 3 (ipykernel)",
   "language": "python",
   "name": "python3"
  },
  "language_info": {
   "codemirror_mode": {
    "name": "ipython",
    "version": 3
   },
   "file_extension": ".py",
   "mimetype": "text/x-python",
   "name": "python",
   "nbconvert_exporter": "python",
   "pygments_lexer": "ipython3",
   "version": "3.9.5"
  }
 },
 "nbformat": 4,
 "nbformat_minor": 5
}
