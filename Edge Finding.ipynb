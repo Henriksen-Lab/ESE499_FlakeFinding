{
 "cells": [
  {
   "cell_type": "markdown",
   "id": "ea73fd50",
   "metadata": {},
   "source": [
    "## Edge Finding ##\n",
    "\n",
    "Author: Jackson Cox ;\n",
    "Supporting Authors: Kaitlin Day, Olivia Schriber\n",
    "\n",
    "\n",
    "Approach:\n",
    "1. Load in Image\n",
    "2. Clean image: convert, blur, edge Find Dilate\n",
    "3. Extract Contours, Fit to Rectangle "
   ]
  },
  {
   "cell_type": "code",
   "execution_count": 11,
   "id": "4eeaecde",
   "metadata": {},
   "outputs": [],
   "source": [
    "# include statements\n",
    "import cv2\n",
    "import numpy as np\n",
    "import math"
   ]
  },
  {
   "cell_type": "code",
   "execution_count": 12,
   "id": "23d90103",
   "metadata": {},
   "outputs": [
    {
     "data": {
      "text/plain": [
       "-1"
      ]
     },
     "execution_count": 12,
     "metadata": {},
     "output_type": "execute_result"
    }
   ],
   "source": [
    "#loading in and resizing \n",
    "\n",
    "#edge Detection of 50x image of bilayer flake using Canny \n",
    "#edge_img = cv2.imread(\"Images/GRAPHENE/bl_1/bl_a_50x.jpg\")\n",
    "edge_img = cv2.imread(\"Images/GRAPHENE/bl_1/bl_a_10xImgWithCOM.jpg\")\n",
    "#edge_img = cv2.imread(\"Images/Feasibility Study/shapes-01.jpg\")\n",
    "scale_percent = 40 # percent of original size\n",
    "width = int(edge_img.shape[1] * scale_percent / 100)\n",
    "height = int(edge_img.shape[0] * scale_percent / 100)\n",
    "dim = (width, height)\n",
    "resized = cv2.resize(edge_img, dim, interpolation = cv2.INTER_AREA)\n",
    "cv2.imshow('first',resized)\n",
    "cv2.waitKey(0)"
   ]
  },
  {
   "cell_type": "code",
   "execution_count": 14,
   "id": "89d0c26a",
   "metadata": {},
   "outputs": [],
   "source": [
    "#image cleaning before finding contours (Order of Operations from article by Rouizi Yacine: \n",
    "# https://dontrepeatyourself.org/post/edge-and-contour-detection-with-opencv-and-python/)\n",
    "\n",
    "#convert image to grayscale \n",
    "edge_gray = cv2.cvtColor(resized, cv2.COLOR_BGR2GRAY)\n",
    "\n",
    "#blur image\n",
    "edge_blur = cv2.GaussianBlur(edge_gray, (11,11), 1)\n",
    "\n",
    "# Canny Edge Detection \n",
    "edges = cv2.Canny(image=edge_blur, threshold1=1, threshold2=10) \n",
    "\n",
    "#dilate image \n",
    "kernel = cv2.getStructuringElement(cv2.MORPH_RECT, (3,3))\n",
    "#gradient = cv2.morphologyEx(edges, cv2.MORPH_GRADIENT, kernel)\n",
    "dilate = cv2.dilate(edges, kernel, iterations=1)\n",
    "cv2.imshow('dilated', dilate)"
   ]
  },
  {
   "cell_type": "code",
   "execution_count": 15,
   "id": "eafd5d0e",
   "metadata": {},
   "outputs": [
    {
     "name": "stdout",
     "output_type": "stream",
     "text": [
      "169 flakes were found in this image\n"
     ]
    }
   ],
   "source": [
    "# find contours of edges\n",
    "contours, heirarchy = cv2.findContours(dilate, cv2.RETR_EXTERNAL, cv2.CHAIN_APPROX_SIMPLE) \n",
    "cv2.drawContours(resized, contours, -1, (0,255,0), 1)\n",
    "\n",
    "#fit bounding rectangles for each contour and add them to the image\n",
    "print(str(len(contours)) + \" flakes were found in this image\")\n",
    "for contour in contours:\n",
    "    x,y,w,h = cv2.boundingRect(contour)\n",
    "    cv2.rectangle(resized,(x,y),(x+w, y+h),(255,0,0),1)"
   ]
  },
  {
   "cell_type": "code",
   "execution_count": 16,
   "id": "629e2da3",
   "metadata": {},
   "outputs": [
    {
     "data": {
      "text/plain": [
       "-1"
      ]
     },
     "execution_count": 16,
     "metadata": {},
     "output_type": "execute_result"
    }
   ],
   "source": [
    "# Display Canny Edge Detection Image with contours\n",
    "cv2.imshow('Contours', resized)\n",
    "cv2.imwrite('Images/GRAPHENE/bl_1/50x_rectangles.jpg', resized)\n",
    "cv2.waitKey(0)"
   ]
  },
  {
   "cell_type": "code",
   "execution_count": null,
   "id": "5d3663b8",
   "metadata": {},
   "outputs": [],
   "source": []
  },
  {
   "cell_type": "code",
   "execution_count": null,
   "id": "b352f87c",
   "metadata": {},
   "outputs": [],
   "source": []
  }
 ],
 "metadata": {
  "kernelspec": {
   "display_name": "Python 3",
   "language": "python",
   "name": "python3"
  },
  "language_info": {
   "codemirror_mode": {
    "name": "ipython",
    "version": 3
   },
   "file_extension": ".py",
   "mimetype": "text/x-python",
   "name": "python",
   "nbconvert_exporter": "python",
   "pygments_lexer": "ipython3",
   "version": "3.8.8"
  }
 },
 "nbformat": 4,
 "nbformat_minor": 5
}
