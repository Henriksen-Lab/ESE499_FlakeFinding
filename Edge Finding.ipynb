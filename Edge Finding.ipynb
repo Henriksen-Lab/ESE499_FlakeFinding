{
 "cells": [
  {
   "cell_type": "markdown",
   "id": "ea73fd50",
   "metadata": {},
   "source": [
    "## Edge Finding ##\n",
    "\n",
    "Approach:\n",
    "1. \n",
    "2.\n",
    "3."
   ]
  },
  {
   "cell_type": "code",
   "execution_count": 166,
   "id": "4eeaecde",
   "metadata": {},
   "outputs": [],
   "source": [
    "# include statements\n",
    "import cv2\n",
    "import numpy as np\n",
    "import math"
   ]
  },
  {
   "cell_type": "code",
   "execution_count": 188,
   "id": "23d90103",
   "metadata": {},
   "outputs": [],
   "source": [
    "#edge Detection of 50x image of bilayer flake using Canny \n",
    "edge_img = cv2.imread(\"Images/GRAPHENE/bl_1/bl_a_50x.jpg\")\n",
    "#edge_img = cv2.imread(\"Images/Feasibility Study/shapes-01.jpg\")\n",
    "scale_percent = 40 # percent of original size\n",
    "width = int(edge_img.shape[1] * scale_percent / 100)\n",
    "height = int(edge_img.shape[0] * scale_percent / 100)\n",
    "dim = (width, height)\n",
    "resized = cv2.resize(edge_img, dim, interpolation = cv2.INTER_AREA)\n",
    "\n",
    "#convert image to grayscale blur image\n",
    "edge_gray = cv2.cvtColor(resized, cv2.COLOR_BGR2GRAY)\n",
    "#blur image\n",
    "edge_blur = cv2.GaussianBlur(edge_gray, (11,11), 0)\n",
    "\n",
    "# Canny Edge Detection\n",
    "edges = cv2.Canny(image=edge_blur, threshold1=1, threshold2=10) # Canny Edge Detection (use 1 and 10 for flake)\n",
    "#edges = edge_blur"
   ]
  },
  {
   "cell_type": "code",
   "execution_count": 189,
   "id": "eafd5d0e",
   "metadata": {},
   "outputs": [
    {
     "data": {
      "text/plain": [
       "array([[[222, 133, 160],\n",
       "        [218, 133, 163],\n",
       "        [215, 132, 167],\n",
       "        ...,\n",
       "        [205, 126, 159],\n",
       "        [204, 124, 159],\n",
       "        [204, 122, 161]],\n",
       "\n",
       "       [[219, 131, 160],\n",
       "        [218, 132, 163],\n",
       "        [215, 130, 163],\n",
       "        ...,\n",
       "        [205, 124, 156],\n",
       "        [206, 125, 159],\n",
       "        [203, 123, 160]],\n",
       "\n",
       "       [[217, 130, 162],\n",
       "        [217, 131, 161],\n",
       "        [218, 132, 162],\n",
       "        ...,\n",
       "        [207, 124, 154],\n",
       "        [206, 124, 156],\n",
       "        [205, 124, 159]],\n",
       "\n",
       "       ...,\n",
       "\n",
       "       [[184, 111, 139],\n",
       "        [182, 111, 138],\n",
       "        [183, 112, 137],\n",
       "        ...,\n",
       "        [180, 109, 131],\n",
       "        [180, 108, 130],\n",
       "        [180, 107, 129]],\n",
       "\n",
       "       [[190, 111, 136],\n",
       "        [185, 112, 136],\n",
       "        [187, 112, 135],\n",
       "        ...,\n",
       "        [180, 107, 129],\n",
       "        [180, 108, 129],\n",
       "        [181, 107, 128]],\n",
       "\n",
       "       [[199, 114, 138],\n",
       "        [188, 111, 133],\n",
       "        [193, 115, 135],\n",
       "        ...,\n",
       "        [183, 110, 132],\n",
       "        [183, 109, 130],\n",
       "        [183, 108, 129]]], dtype=uint8)"
      ]
     },
     "execution_count": 189,
     "metadata": {},
     "output_type": "execute_result"
    }
   ],
   "source": [
    "# find contours of edges\n",
    "contours, heirarchy = cv2.findContours(edges, cv2.RETR_EXTERNAL, cv2.CHAIN_APPROX_SIMPLE) \n",
    "#print(contours)\n",
    "cv2.drawContours(resized, contours, -1, (0,255,0), 1)\n",
    "\n",
    "#fit bounding rectangles for each contour and add them to the image\n",
    "#for contour in contours:\n",
    "  #  x,y,w,h = cv2.boundingRect(contour)\n",
    "   # cv2.rectangle(resized,(x,y),(x+w, y+h),(255,0,0),1)"
   ]
  },
  {
   "cell_type": "code",
   "execution_count": 190,
   "id": "629e2da3",
   "metadata": {},
   "outputs": [
    {
     "data": {
      "text/plain": [
       "-1"
      ]
     },
     "execution_count": 190,
     "metadata": {},
     "output_type": "execute_result"
    }
   ],
   "source": [
    "# Display Canny Edge Detection Image with contours\n",
    "cv2.imshow('Contours', resized)\n",
    "#cv2.imwrite('Images/edges.jpg', edges)\n",
    "cv2.waitKey(0)"
   ]
  },
  {
   "cell_type": "code",
   "execution_count": null,
   "id": "2c123de7",
   "metadata": {},
   "outputs": [],
   "source": []
  },
  {
   "cell_type": "code",
   "execution_count": null,
   "id": "df9e9b0c",
   "metadata": {},
   "outputs": [],
   "source": []
  }
 ],
 "metadata": {
  "kernelspec": {
   "display_name": "Python 3",
   "language": "python",
   "name": "python3"
  },
  "language_info": {
   "codemirror_mode": {
    "name": "ipython",
    "version": 3
   },
   "file_extension": ".py",
   "mimetype": "text/x-python",
   "name": "python",
   "nbconvert_exporter": "python",
   "pygments_lexer": "ipython3",
   "version": "3.8.8"
  }
 },
 "nbformat": 4,
 "nbformat_minor": 5
}
