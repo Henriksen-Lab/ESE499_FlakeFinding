{
 "cells": [
  {
   "cell_type": "code",
   "execution_count": 39,
   "id": "23ee93bc",
   "metadata": {},
   "outputs": [
    {
     "name": "stdout",
     "output_type": "stream",
     "text": [
      "['Images/GRAPHENE/bl_3\\\\bl_a_20x.jpg', 'Images/GRAPHENE/bl_3\\\\bl_a_20xBACKGROUNDCOLOR.jpg', 'Images/GRAPHENE/bl_3\\\\bl_a_20xcrop0.jpg', 'Images/GRAPHENE/bl_3\\\\bl_a_20xcrop1.jpg', 'Images/GRAPHENE/bl_3\\\\bl_a_20xcrop2.jpg', 'Images/GRAPHENE/bl_3\\\\bl_a_20xcropmask0.jpg', 'Images/GRAPHENE/bl_3\\\\bl_a_20xcropmask1.jpg', 'Images/GRAPHENE/bl_3\\\\bl_a_20xcropmask2.jpg', 'Images/GRAPHENE/bl_3\\\\bl_a_20xcropmaskwCOM0.jpg', 'Images/GRAPHENE/bl_3\\\\bl_a_20xcropmaskwCOM1.jpg', 'Images/GRAPHENE/bl_3\\\\bl_a_20xcropmaskwCOM2.jpg', 'Images/GRAPHENE/bl_3\\\\bl_a_20x_CNTR.jpg', 'Images/GRAPHENE/bl_3\\\\bl_a_20x_contours.jpg', 'Images/GRAPHENE/bl_3\\\\bl_a_20x_edgesize.jpg', 'Images/GRAPHENE/bl_3\\\\bl_a_20x_RECT.jpg', 'Images/GRAPHENE/bl_3\\\\bl_a_20x_resized.jpg', 'Images/GRAPHENE/bl_4\\\\bl_b_20x.jpg', 'Images/GRAPHENE/bl_4\\\\bl_b_20xBACKGROUNDCOLOR.jpg', 'Images/GRAPHENE/bl_4\\\\bl_b_20xcrop0.jpg', 'Images/GRAPHENE/bl_4\\\\bl_b_20xcrop1.jpg', 'Images/GRAPHENE/bl_4\\\\bl_b_20xcrop2.jpg', 'Images/GRAPHENE/bl_4\\\\bl_b_20xcrop3.jpg', 'Images/GRAPHENE/bl_4\\\\bl_b_20xcrop4.jpg', 'Images/GRAPHENE/bl_4\\\\bl_b_20xcrop5.jpg', 'Images/GRAPHENE/bl_4\\\\bl_b_20xcrop6.jpg', 'Images/GRAPHENE/bl_4\\\\bl_b_20xcropmask0.jpg', 'Images/GRAPHENE/bl_4\\\\bl_b_20xcropmask1.jpg', 'Images/GRAPHENE/bl_4\\\\bl_b_20xcropmask2.jpg', 'Images/GRAPHENE/bl_4\\\\bl_b_20xcropmask3.jpg', 'Images/GRAPHENE/bl_4\\\\bl_b_20xcropmask4.jpg', 'Images/GRAPHENE/bl_4\\\\bl_b_20xcropmask5.jpg', 'Images/GRAPHENE/bl_4\\\\bl_b_20xcropmask6.jpg', 'Images/GRAPHENE/bl_4\\\\bl_b_20xcropmaskwCOM0.jpg', 'Images/GRAPHENE/bl_4\\\\bl_b_20xcropmaskwCOM2.jpg', 'Images/GRAPHENE/bl_4\\\\bl_b_20xcropmaskwCOM3.jpg', 'Images/GRAPHENE/bl_4\\\\bl_b_20xcropmaskwCOM4.jpg', 'Images/GRAPHENE/bl_4\\\\bl_b_20xcropmaskwCOM5.jpg', 'Images/GRAPHENE/bl_4\\\\bl_b_20xcropmaskwCOM6.jpg', 'Images/GRAPHENE/bl_4\\\\bl_b_20x_contours.jpg', 'Images/GRAPHENE/bl_4\\\\bl_b_20x_edgesize.jpg', 'Images/GRAPHENE/bl_4\\\\bl_b_20x_resized.jpg', 'Images/GRAPHENE/flg_1\\\\b_20x.jpg', 'Images/GRAPHENE/flg_2\\\\a_20x.jpg', 'Images/GRAPHENE/flg_3\\\\flg_a_20x.jpg', 'Images/GRAPHENE/flg_3\\\\flg_a_20xBACKGROUNDCOLOR.jpg', 'Images/GRAPHENE/flg_3\\\\flg_a_20xcrop0.jpg', 'Images/GRAPHENE/flg_3\\\\flg_a_20xcrop1.jpg', 'Images/GRAPHENE/flg_3\\\\flg_a_20xcrop2.jpg', 'Images/GRAPHENE/flg_3\\\\flg_a_20xcrop3.jpg', 'Images/GRAPHENE/flg_3\\\\flg_a_20xcrop4.jpg', 'Images/GRAPHENE/flg_3\\\\flg_a_20xcrop5.jpg', 'Images/GRAPHENE/flg_3\\\\flg_a_20xcrop6.jpg', 'Images/GRAPHENE/flg_3\\\\flg_a_20xcropmask0.jpg', 'Images/GRAPHENE/flg_3\\\\flg_a_20xcropmask1.jpg', 'Images/GRAPHENE/flg_3\\\\flg_a_20xcropmask2.jpg', 'Images/GRAPHENE/flg_3\\\\flg_a_20xcropmask3.jpg', 'Images/GRAPHENE/flg_3\\\\flg_a_20xcropmask4.jpg', 'Images/GRAPHENE/flg_3\\\\flg_a_20xcropmask5.jpg', 'Images/GRAPHENE/flg_3\\\\flg_a_20xcropmask6.jpg', 'Images/GRAPHENE/flg_3\\\\flg_a_20x_contours.jpg', 'Images/GRAPHENE/flg_3\\\\flg_a_20x_edgesize.jpg', 'Images/GRAPHENE/flg_3\\\\flg_a_20x_resized.jpg', 'Images/GRAPHENE/mixed_1\\\\mixed_a_20x.jpg', 'Images/GRAPHENE/mixed_1\\\\mixed_a_20x_contours.jpg', 'Images/GRAPHENE/mixed_1\\\\mixed_a_20x_edgesize.jpg', 'Images/GRAPHENE/mixed_1\\\\mixed_a_20x_resized.jpg', 'Images/GRAPHENE/ml_4\\\\ml_a_20x.jpg', 'Images/GRAPHENE/ml_4\\\\ml_a_20x_contours.jpg', 'Images/GRAPHENE/ml_4\\\\ml_a_20x_dilate3.jpg', 'Images/GRAPHENE/ml_4\\\\ml_a_20x_dilate5.jpg', 'Images/GRAPHENE/ml_4\\\\ml_a_20x_edgesize.jpg', 'Images/GRAPHENE/ml_4\\\\ml_a_20x_RECT.jpg', 'Images/GRAPHENE/ml_4\\\\ml_a_20x_resized.jpg']\n"
     ]
    }
   ],
   "source": [
    "# Edge Finding Code (Jackson Cox)\n",
    "import cv2\n",
    "import numpy as np\n",
    "import math\n",
    "import os \n",
    "import string \n",
    "#work on this \n",
    "directory = \"Images/GRAPHENE/\" \n",
    "unfiltered_images = [];\n",
    "#Code from: https://www.folkstalk.com/2022/10/python-loop-through-all-folders-and-subfolders-with-code-examples.html\n",
    "for root, subdirectories, files in os. walk(directory):\n",
    "    for subdirectory in subdirectories:\n",
    "        for root2,sub2, files2 in os. walk(subdirectory):\n",
    "            print()\n",
    "    for file in files:\n",
    "        if \"_20x\" in os. path. join(root, file): \n",
    "            unfiltered_images.append(str(os. path. join(root, file)))\n",
    "\n",
    "unfiltered_images = [i.replace('\\\\\\\\','////') for i in unfiltered_images]\n",
    "\n",
    "#print(unfiltered_images)\n"
   ]
  },
  {
   "cell_type": "code",
   "execution_count": 42,
   "id": "3bc5ad23",
   "metadata": {},
   "outputs": [
    {
     "name": "stdout",
     "output_type": "stream",
     "text": [
      "48 flakes were found in this image\n",
      "[[0, 570, 335, 198], [438, 401, 328, 228], [239, 0, 264, 98]]\n",
      "1.7145000000000001 9 5\n"
     ]
    },
    {
     "data": {
      "text/plain": [
       "-1"
      ]
     },
     "execution_count": 42,
     "metadata": {},
     "output_type": "execute_result"
    }
   ],
   "source": [
    "## Test of looping file system\n",
    "\n",
    "\n",
    "\n",
    "imageusing=\"Images/GRAPHENE/ml_1\\\\ml_a_50x\"\n",
    "\n",
    "#edge Detection of 50x image of biklayer flake using Canny \n",
    "edge_img = cv2.imread(imageusing+\".jpg\")\n",
    "#edge_img = cv2.imread(\"Images/GRAPHENE/bl_2/bl_a_50x.jpg\")\n",
    "#edge_img = cv2.imread(\"Images/GRAPHENE/ml_2/mlg_a_50x.jpg\")\n",
    "#edge_img = cv2.imread(\"Images/GRAPHENE/bl_1/bl_a_10xImgWithCOM.jpg\")\n",
    "scale_percent = 40 # percent of original size\n",
    "width = int(edge_img.shape[1] * scale_percent / 100)\n",
    "height = int(edge_img.shape[0] * scale_percent / 100)\n",
    "dim = (width, height)\n",
    "resized = cv2.resize(edge_img, dim, interpolation = cv2.INTER_AREA)\n",
    "resized_wo_rect=resized\n",
    "#cv2.imwrite(imageusing+\"_resized.jpg\", resized_wo_rect)\n",
    "cv2.imshow('first',resized)\n",
    "cv2.waitKey(0)\n"
   ]
  },
  {
   "cell_type": "code",
   "execution_count": null,
   "id": "6bf313d5",
   "metadata": {},
   "outputs": [],
   "source": []
  }
 ],
 "metadata": {
  "kernelspec": {
   "display_name": "Python 3",
   "language": "python",
   "name": "python3"
  },
  "language_info": {
   "codemirror_mode": {
    "name": "ipython",
    "version": 3
   },
   "file_extension": ".py",
   "mimetype": "text/x-python",
   "name": "python",
   "nbconvert_exporter": "python",
   "pygments_lexer": "ipython3",
   "version": "3.8.8"
  }
 },
 "nbformat": 4,
 "nbformat_minor": 5
}
