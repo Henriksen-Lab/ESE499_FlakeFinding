{
 "cells": [
  {
   "cell_type": "code",
   "execution_count": 1,
   "id": "7ece556b",
   "metadata": {},
   "outputs": [],
   "source": [
    "# load sql connection\n",
    "#%load_ext sql"
   ]
  },
  {
   "cell_type": "code",
   "execution_count": null,
   "id": "24f242f8",
   "metadata": {},
   "outputs": [],
   "source": [
    "# connect to database\n",
    "#%sql sqlite:///flake_characteristics.db"
   ]
  },
  {
   "cell_type": "code",
   "execution_count": 2,
   "id": "8b08259a",
   "metadata": {},
   "outputs": [],
   "source": [
    "# create class of flakes\n",
    "class flakes:\n",
    "    def __init__(self, image, mag, thickness, l_side, num_flakes, location):\n",
    "        self.image = image\n",
    "        self.mag = mag\n",
    "        self.thickness = thickness\n",
    "        self.l_side = l_side\n",
    "        self.num_flakes = num_flakes\n",
    "        self.location = location\n",
    "    "
   ]
  },
  {
   "cell_type": "code",
   "execution_count": 5,
   "id": "c60f5b28",
   "metadata": {},
   "outputs": [
    {
     "data": {
      "text/plain": [
       "[<__main__.flakes at 0x7f7984eab190>,\n",
       " <__main__.flakes at 0x7f7984e74c10>,\n",
       " <__main__.flakes at 0x7f7984e74cd0>,\n",
       " <__main__.flakes at 0x7f7984f31be0>]"
      ]
     },
     "execution_count": 5,
     "metadata": {},
     "output_type": "execute_result"
    }
   ],
   "source": [
    "# create flake objects\n",
    "img = [\"Images/GRAPHENE/flg_2/a_50xX\",\"Images/GRAPHENE/bl_1/bl_a_50x.jpg\", \\\n",
    "         \"Images/GRAPHENE/ml_4/ml_a_20x.jpg\",\"Images/GRAPHENE/bl_2/bl_a_2.5x.jpg\"]\n",
    "mag = [50, 50, 20, 2.5]\n",
    "thickness = ['fl','bl','ml','bl']\n",
    "l_side = [80,129,75,62]\n",
    "num_flakes = [1,2,3,4]\n",
    "location = [\"UL\",\"MR\",\"LL\",\"UR\"]\n",
    "usable_flakes = []\n",
    "for i in range(len(img)):\n",
    "    usable_flakes.append(flakes(img[i],mag[i],thickness[i],l_side[i],num_flakes[i],location[i]))\n",
    "\n",
    "usable_flakes"
   ]
  },
  {
   "cell_type": "code",
   "execution_count": 41,
   "id": "6449681b",
   "metadata": {},
   "outputs": [
    {
     "name": "stdout",
     "output_type": "stream",
     "text": [
      "Image:  f.mag\n",
      "Image:  50\n",
      "Image:  50\n",
      "Image:  20\n",
      "Image:  2.5\n"
     ]
    }
   ],
   "source": [
    "# create table of characteristics\n",
    "# varchar(#) = max # of characters in string\n",
    "import sqlite3\n",
    "con = sqlite3.connect(\"flake_characteristics.db\")\n",
    "\n",
    "# create cursor object \n",
    "c = con.cursor()\n",
    "\n",
    "# create table \"flake_char_test\"\n",
    "#c.execute(\"CREATE TABLE flake_char_test (image varchar(100) PRIMARY KEY, mag int, thickness varchar(100), l_side int, num_flakes int, location varchar(100))\")\n",
    "\n",
    "# get column names from table\n",
    "#col = [description[0] for description in c.description]\n",
    "\n",
    "\n",
    "c.execute(\"SELECT * from flake_char_test\")\n",
    "table = c.fetchall()\n",
    "for r in table:\n",
    "    print(\"Image: \", r[1])\n",
    "    "
   ]
  },
  {
   "cell_type": "code",
   "execution_count": 37,
   "id": "a8135a5a",
   "metadata": {},
   "outputs": [
    {
     "ename": "IntegrityError",
     "evalue": "UNIQUE constraint failed: flake_char_test.image",
     "output_type": "error",
     "traceback": [
      "\u001b[0;31m---------------------------------------------------------------------------\u001b[0m",
      "\u001b[0;31mIntegrityError\u001b[0m                            Traceback (most recent call last)",
      "Input \u001b[0;32mIn [37]\u001b[0m, in \u001b[0;36m<cell line: 2>\u001b[0;34m()\u001b[0m\n\u001b[1;32m      3\u001b[0m image \u001b[38;5;241m=\u001b[39m f\u001b[38;5;241m.\u001b[39mimage\n\u001b[1;32m      4\u001b[0m add_to_table \u001b[38;5;241m=\u001b[39m \u001b[38;5;124m\"\u001b[39m\u001b[38;5;124mINSERT INTO flake_char_test VALUES (?, ?, ?, ?, ?, ?)\u001b[39m\u001b[38;5;124m\"\u001b[39m\n\u001b[0;32m----> 5\u001b[0m \u001b[43mc\u001b[49m\u001b[38;5;241;43m.\u001b[39;49m\u001b[43mexecute\u001b[49m\u001b[43m(\u001b[49m\u001b[43madd_to_table\u001b[49m\u001b[43m,\u001b[49m\u001b[43m \u001b[49m\u001b[43m(\u001b[49m\u001b[43mf\u001b[49m\u001b[38;5;241;43m.\u001b[39;49m\u001b[43mimage\u001b[49m\u001b[43m,\u001b[49m\u001b[43m \u001b[49m\u001b[43mf\u001b[49m\u001b[38;5;241;43m.\u001b[39;49m\u001b[43mmag\u001b[49m\u001b[43m,\u001b[49m\u001b[43m \u001b[49m\u001b[43mf\u001b[49m\u001b[38;5;241;43m.\u001b[39;49m\u001b[43mthickness\u001b[49m\u001b[43m,\u001b[49m\u001b[43m \u001b[49m\u001b[43mf\u001b[49m\u001b[38;5;241;43m.\u001b[39;49m\u001b[43ml_side\u001b[49m\u001b[43m,\u001b[49m\u001b[43m \u001b[49m\u001b[43mf\u001b[49m\u001b[38;5;241;43m.\u001b[39;49m\u001b[43mnum_flakes\u001b[49m\u001b[43m,\u001b[49m\u001b[43m \u001b[49m\u001b[43mf\u001b[49m\u001b[38;5;241;43m.\u001b[39;49m\u001b[43mlocation\u001b[49m\u001b[43m)\u001b[49m\u001b[43m)\u001b[49m\n\u001b[1;32m      6\u001b[0m con\u001b[38;5;241m.\u001b[39mcommit()\n",
      "\u001b[0;31mIntegrityError\u001b[0m: UNIQUE constraint failed: flake_char_test.image"
     ]
    }
   ],
   "source": [
    "# add data into table from \"usable_flakes\"\n",
    "for f in usable_flakes:\n",
    "    image = f.image\n",
    "    add_to_table = \"INSERT INTO flake_char_test VALUES (?, ?, ?, ?, ?, ?)\"\n",
    "    c.execute(add_to_table, (f.image, f.mag, f.thickness, f.l_side, f.num_flakes, f.location))\n",
    "    con.commit()\n",
    "    #c.execute(\"INSERT or REPLACE INTO flake_char_test \\\n",
    "    #VALUES (image, f.mag, 'f.thickness', 'f.l_side', 'f.num_flakes', 'f.location')\");\n",
    "    \n",
    "    \n",
    "    "
   ]
  },
  {
   "cell_type": "code",
   "execution_count": 16,
   "id": "8f823f1b",
   "metadata": {},
   "outputs": [
    {
     "name": "stdout",
     "output_type": "stream",
     "text": [
      "[('table', 'flake_char_test', 'flake_char_test', 2, 'CREATE TABLE flake_char_test (image varchar(100) PRIMARY KEY, mag int, thickness varchar(100), l_side int, num_flakes int, location varchar(100))')]\n"
     ]
    }
   ],
   "source": [
    "c.execute(\"SELECT * FROM sqlite_master WHERE type='table';\")\n",
    "print(c.fetchall())"
   ]
  },
  {
   "cell_type": "code",
   "execution_count": null,
   "id": "c6f9ecff",
   "metadata": {},
   "outputs": [],
   "source": []
  },
  {
   "cell_type": "code",
   "execution_count": null,
   "id": "d5f5cc19",
   "metadata": {},
   "outputs": [],
   "source": []
  }
 ],
 "metadata": {
  "kernelspec": {
   "display_name": "Python 3 (ipykernel)",
   "language": "python",
   "name": "python3"
  },
  "language_info": {
   "codemirror_mode": {
    "name": "ipython",
    "version": 3
   },
   "file_extension": ".py",
   "mimetype": "text/x-python",
   "name": "python",
   "nbconvert_exporter": "python",
   "pygments_lexer": "ipython3",
   "version": "3.9.5"
  }
 },
 "nbformat": 4,
 "nbformat_minor": 5
}
