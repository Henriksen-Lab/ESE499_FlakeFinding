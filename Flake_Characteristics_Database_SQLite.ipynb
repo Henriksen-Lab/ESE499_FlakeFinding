{
 "cells": [
  {
   "cell_type": "code",
   "execution_count": 1,
   "id": "8b08259a",
   "metadata": {},
   "outputs": [],
   "source": [
    "# create class of flakes\n",
    "class flakes:\n",
    "    def __init__(self, image, mag, thickness, l_side, num_flakes, location):\n",
    "        self.image = image\n",
    "        self.mag = mag\n",
    "        self.thickness = thickness\n",
    "        self.l_side = l_side\n",
    "        self.num_flakes = num_flakes\n",
    "        self.location = location\n",
    "    "
   ]
  },
  {
   "cell_type": "code",
   "execution_count": 2,
   "id": "c60f5b28",
   "metadata": {},
   "outputs": [],
   "source": [
    "# create flake objects\n",
    "img = [\"Images/GRAPHENE/flg_2/a_50xX\",\"Images/GRAPHENE/bl_1/bl_a_50x.jpg\", \\\n",
    "         \"Images/GRAPHENE/ml_4/ml_a_20x.jpg\",\"Images/GRAPHENE/bl_2/bl_a_2.5x.jpg\"]\n",
    "mag = [50, 50, 20, 2.5]\n",
    "thickness = ['fl','bl','ml','bl']\n",
    "l_side = [80,129,75,62]\n",
    "num_flakes = [1,2,3,4]\n",
    "location = [\"UL\",\"MR\",\"LL\",\"UR\"]\n",
    "usable_flakes = []\n",
    "for i in range(len(img)):\n",
    "    usable_flakes.append(flakes(img[i],mag[i],thickness[i],l_side[i],num_flakes[i],location[i]))"
   ]
  },
  {
   "cell_type": "code",
   "execution_count": 3,
   "id": "6449681b",
   "metadata": {},
   "outputs": [
    {
     "name": "stdout",
     "output_type": "stream",
     "text": [
      "                                image    mag    thickness    l_side  \\\n",
      "0                             f.image  f.mag  f.thickness  f.l_side   \n",
      "1        Images/GRAPHENE/flg_2/a_50xX     50           fl        80   \n",
      "2   Images/GRAPHENE/bl_1/bl_a_50x.jpg     50           bl       129   \n",
      "3   Images/GRAPHENE/ml_4/ml_a_20x.jpg     20           ml        75   \n",
      "4  Images/GRAPHENE/bl_2/bl_a_2.5x.jpg    2.5           bl        62   \n",
      "\n",
      "     num_flakes    location  \n",
      "0  f.num_flakes  f.location  \n",
      "1             1          UL  \n",
      "2             2          MR  \n",
      "3             3          LL  \n",
      "4             4          UR  \n"
     ]
    }
   ],
   "source": [
    "# create table of characteristics\n",
    "# varchar(#) = max # of characters in string\n",
    "import sqlite3\n",
    "import pandas as pd\n",
    "con = sqlite3.connect(\"flake_characteristics.db\")\n",
    "\n",
    "# create cursor object \n",
    "c = con.cursor()\n",
    "\n",
    "# create table \"flake_char_test\"\n",
    "#c.execute(\"CREATE TABLE flake_char_test (image varchar(100) PRIMARY KEY, mag int, thickness varchar(100), l_side int, num_flakes int, location varchar(100))\")\n",
    "\n",
    "# get column names from table\n",
    "#col = [description[0] for description in c.description]\n",
    "\n",
    "# printe entire table as pandas query\n",
    "print(pd.read_sql_query(\"SELECT * FROM flake_char_test\", con))\n"
   ]
  },
  {
   "cell_type": "code",
   "execution_count": 8,
   "id": "a8135a5a",
   "metadata": {},
   "outputs": [
    {
     "ename": "IntegrityError",
     "evalue": "UNIQUE constraint failed: flake_char_test.image",
     "output_type": "error",
     "traceback": [
      "\u001b[0;31m---------------------------------------------------------------------------\u001b[0m",
      "\u001b[0;31mIntegrityError\u001b[0m                            Traceback (most recent call last)",
      "Input \u001b[0;32mIn [8]\u001b[0m, in \u001b[0;36m<cell line: 2>\u001b[0;34m()\u001b[0m\n\u001b[1;32m      2\u001b[0m \u001b[38;5;28;01mfor\u001b[39;00m f \u001b[38;5;129;01min\u001b[39;00m usable_flakes:\n\u001b[1;32m      3\u001b[0m     add_to_table \u001b[38;5;241m=\u001b[39m \u001b[38;5;124m\"\u001b[39m\u001b[38;5;124mINSERT INTO flake_char_test VALUES (?, ?, ?, ?, ?, ?)\u001b[39m\u001b[38;5;124m\"\u001b[39m\n\u001b[0;32m----> 4\u001b[0m     \u001b[43mc\u001b[49m\u001b[38;5;241;43m.\u001b[39;49m\u001b[43mexecute\u001b[49m\u001b[43m(\u001b[49m\u001b[43madd_to_table\u001b[49m\u001b[43m,\u001b[49m\u001b[43m \u001b[49m\u001b[43m(\u001b[49m\u001b[43mf\u001b[49m\u001b[38;5;241;43m.\u001b[39;49m\u001b[43mimage\u001b[49m\u001b[43m,\u001b[49m\u001b[43m \u001b[49m\u001b[43mf\u001b[49m\u001b[38;5;241;43m.\u001b[39;49m\u001b[43mmag\u001b[49m\u001b[43m,\u001b[49m\u001b[43m \u001b[49m\u001b[43mf\u001b[49m\u001b[38;5;241;43m.\u001b[39;49m\u001b[43mthickness\u001b[49m\u001b[43m,\u001b[49m\u001b[43m \u001b[49m\u001b[43mf\u001b[49m\u001b[38;5;241;43m.\u001b[39;49m\u001b[43ml_side\u001b[49m\u001b[43m,\u001b[49m\u001b[43m \u001b[49m\u001b[43mf\u001b[49m\u001b[38;5;241;43m.\u001b[39;49m\u001b[43mnum_flakes\u001b[49m\u001b[43m,\u001b[49m\u001b[43m \u001b[49m\u001b[43mf\u001b[49m\u001b[38;5;241;43m.\u001b[39;49m\u001b[43mlocation\u001b[49m\u001b[43m)\u001b[49m\u001b[43m)\u001b[49m\n\u001b[1;32m      5\u001b[0m     con\u001b[38;5;241m.\u001b[39mcommit()\n",
      "\u001b[0;31mIntegrityError\u001b[0m: UNIQUE constraint failed: flake_char_test.image"
     ]
    }
   ],
   "source": [
    "# add data into table from \"usable_flakes\"\n",
    "for f in usable_flakes:\n",
    "    #add_to_table = \"INSERT INTO flake_char_test VALUES (?, ?, ?, ?, ?, ?)\"\n",
    "    #c.execute(add_to_table, (f.image, f.mag, f.thickness, f.l_side, f.num_flakes, f.location))\n",
    "    #con.commit()\n",
    "       "
   ]
  },
  {
   "cell_type": "markdown",
   "id": "6827eb80",
   "metadata": {},
   "source": [
    "# Categorize Flakes by Region\n",
    "## *based on location of (x,y) from bounding rectangle\n",
    "#### UL = ([0,256],[0,341]) UM = ([0,256],[341,682]) UR = ([0,256],[683,1024])\n",
    "#### ML = ([257,512],[0,341]) UM = ([257,512],[341,682]) MR = ([257,512],[683,1024])\n",
    "#### BL = ([512,768],[0,341]) BM = ([512,768],[341,682]) BR = ([512,768],[683,1024])\n",
    "#### Key: \n",
    "##### UL = \"Upper Left\", UM = \"Upper Middle\", UR = \"Upper Right\"\n",
    "##### ML = \"Middle Left\", MM = \"Middle Middle\", MR = \"Middle Right\"\n",
    "##### BL = \"Bottom Left\", BM = \"Bottom Middle\", BR = \"Bottom Right\""
   ]
  },
  {
   "cell_type": "code",
   "execution_count": 17,
   "id": "c6f9ecff",
   "metadata": {},
   "outputs": [
    {
     "data": {
      "text/plain": [
       "['UM', 'BR', 'MR', 'MM']"
      ]
     },
     "execution_count": 17,
     "metadata": {},
     "output_type": "execute_result"
    }
   ],
   "source": [
    "# resized image shape (768, 1024, 3) - scaled 40%\n",
    "flake_loc_x = [200, 600, 280, 400]\n",
    "flake_loc_y = [350, 1000, 750, 600]\n",
    "\n",
    "flake_regions = []\n",
    "for i in range(len(flake_loc_x)):\n",
    "    if flake_loc_x[i] <= 256:\n",
    "        if flake_loc_y[i] <= 341:\n",
    "            flake_regions.append(\"UL\")\n",
    "        elif flake_loc_y[i] <= 682:\n",
    "            flake_regions.append(\"UM\")\n",
    "        else:\n",
    "            flake_regions.append(\"UR\")\n",
    "    elif flake_loc_x[i] <= 512:\n",
    "        if flake_loc_y[i] <= 341:\n",
    "            flake_regions.append(\"ML\")\n",
    "        elif flake_loc_y[i] <= 682:\n",
    "            flake_regions.append(\"MM\")\n",
    "        else:\n",
    "            flake_regions.append(\"MR\")\n",
    "    else:\n",
    "        if flake_loc_y[i] <= 341:\n",
    "            flake_regions[i].append(\"BL\")\n",
    "        elif flake_loc_y[i] <= 682:\n",
    "            flake_regions.append(\"BM\")\n",
    "        else:\n",
    "            flake_regions.append(\"BR\")\n",
    "    \n",
    "flake_regions"
   ]
  },
  {
   "cell_type": "code",
   "execution_count": null,
   "id": "d5f5cc19",
   "metadata": {},
   "outputs": [],
   "source": []
  },
  {
   "cell_type": "code",
   "execution_count": null,
   "id": "1ea4ef70",
   "metadata": {},
   "outputs": [],
   "source": []
  }
 ],
 "metadata": {
  "kernelspec": {
   "display_name": "Python 3 (ipykernel)",
   "language": "python",
   "name": "python3"
  },
  "language_info": {
   "codemirror_mode": {
    "name": "ipython",
    "version": 3
   },
   "file_extension": ".py",
   "mimetype": "text/x-python",
   "name": "python",
   "nbconvert_exporter": "python",
   "pygments_lexer": "ipython3",
   "version": "3.9.5"
  }
 },
 "nbformat": 4,
 "nbformat_minor": 5
}
