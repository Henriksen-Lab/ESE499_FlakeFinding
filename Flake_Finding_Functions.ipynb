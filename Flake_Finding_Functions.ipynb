{
 "cells": [
  {
   "cell_type": "code",
   "execution_count": 1,
   "id": "f30d6fb8",
   "metadata": {},
   "outputs": [],
   "source": [
    "def find_index(lst, item):\n",
    "    return [i for i, x in enumerate(lst) if x == item]\n",
    "\n",
    "def region(flake_loc_x, flake_loc_y):\n",
    "    flake_regions = []\n",
    "    if flake_loc_x <= 256:\n",
    "        if flake_loc_y <= 341:\n",
    "            flake_regions.append(\"UL\")\n",
    "        elif flake_loc_y <= 682:\n",
    "            flake_regions.append(\"UM\")\n",
    "        else:\n",
    "            flake_regions.append(\"UR\")\n",
    "    elif flake_loc_x <= 512:\n",
    "        if flake_loc_y <= 341:\n",
    "            flake_regions.append(\"ML\")\n",
    "        elif flake_loc_y <= 682:\n",
    "            flake_regions.append(\"MM\")\n",
    "        else:\n",
    "            flake_regions.append(\"MR\")\n",
    "    else:\n",
    "        if flake_loc_y <= 341:\n",
    "            flake_regions.append(\"BL\")\n",
    "        elif flake_loc_y <= 682:\n",
    "            flake_regions.append(\"BM\")\n",
    "        else:\n",
    "            flake_regions.append(\"BR\")\n",
    "    \n",
    "    return flake_regions"
   ]
  }
 ],
 "metadata": {
  "kernelspec": {
   "display_name": "Python 3 (ipykernel)",
   "language": "python",
   "name": "python3"
  },
  "language_info": {
   "codemirror_mode": {
    "name": "ipython",
    "version": 3
   },
   "file_extension": ".py",
   "mimetype": "text/x-python",
   "name": "python",
   "nbconvert_exporter": "python",
   "pygments_lexer": "ipython3",
   "version": "3.9.12"
  }
 },
 "nbformat": 4,
 "nbformat_minor": 5
}
