{
 "cells": [
  {
   "cell_type": "code",
   "execution_count": null,
   "id": "3e554f3d",
   "metadata": {},
   "outputs": [],
   "source": []
  },
  {
   "cell_type": "markdown",
   "id": "fa0a4bd7",
   "metadata": {},
   "source": [
    "**Feasibility Study Example**"
   ]
  },
  {
   "cell_type": "code",
   "execution_count": 2,
   "id": "ff429c09",
   "metadata": {},
   "outputs": [],
   "source": [
    "# import python packages\n",
    "import cv2\n",
    "import numpy as np\n",
    "import math\n",
    "#from matplotlib import pyplot as plt\n"
   ]
  },
  {
   "cell_type": "code",
   "execution_count": 3,
   "id": "8d1b4945",
   "metadata": {},
   "outputs": [],
   "source": [
    "# import & display photos\n",
    "img1 = cv2.imread(\"Images/blocks.jpg\")\n",
    "hsv = cv2.cvtColor(img1, cv2.COLOR_BGR2HSV)\n",
    "cv2.imshow('blocks', img1)\n",
    "cv2.waitKey(0)\n",
    "cv2.destroyAllWindows()"
   ]
  },
  {
   "cell_type": "code",
   "execution_count": 4,
   "id": "e3e8d3fc",
   "metadata": {},
   "outputs": [],
   "source": [
    "# create masks & HSV ranges for red, yellow & green\n",
    "\n",
    "mask_red = cv2.inRange(hsv, (0, 150, 150), (15, 255, 255))\n",
    "cv2.imwrite('Images/red_mask.jpg', mask_red)\n",
    "\n",
    "# read masked image\n",
    "red_mask = cv2.imread('Images/red_mask.jpg')\n",
    "\n",
    "# display masked image\n",
    "cv2.imshow('red mask', red_mask)\n",
    "cv2.waitKey(0)\n",
    "cv2.destroyAllWindows()\n"
   ]
  },
  {
   "cell_type": "code",
   "execution_count": 5,
   "id": "1cd5922d",
   "metadata": {},
   "outputs": [
    {
     "name": "stdout",
     "output_type": "stream",
     "text": [
      "CoM Red Dot: (469, 251)\n"
     ]
    }
   ],
   "source": [
    "# add dot on center of mass of mask\n",
    "M = cv2.moments(mask_red)\n",
    "cX = int(M[\"m10\"]/M[\"m00\"])\n",
    "cY = int(M[\"m01\"]/M[\"m00\"])\n",
    "print(f\"CoM Red Dot: ({cX}, {cY})\")\n",
    "\n",
    "mask_redCoM = mask_red\n",
    "CoM_red = cv2.circle(mask_redCoM, (cX,cY), color = (0, 0, 255), radius = 5, thickness = -1)\n",
    "cv2.imshow('red mask w/ CoM', CoM_red)\n",
    "cv2.waitKey(0)\n",
    "cv2.destroyAllWindows()"
   ]
  },
  {
   "cell_type": "code",
   "execution_count": 6,
   "id": "b4b0c7c2",
   "metadata": {},
   "outputs": [],
   "source": [
    "# create masks & HSV ranges for green\n",
    "\n",
    "mask_green = cv2.inRange(hsv, (100, 150, 150), (150, 255, 255))\n",
    "cv2.imwrite('Images/green_mask.jpg', mask_green)\n",
    "\n",
    "# read masked image\n",
    "green_mask = cv2.imread('Images/green_mask.jpg')\n",
    "\n",
    "# display masked image\n",
    "cv2.imshow('green mask', green_mask)\n",
    "cv2.waitKey(0)\n",
    "cv2.destroyAllWindows()"
   ]
  },
  {
   "cell_type": "code",
   "execution_count": 7,
   "id": "0d325c24",
   "metadata": {},
   "outputs": [
    {
     "name": "stdout",
     "output_type": "stream",
     "text": [
      "CoM Green Block: (424, 372)\n",
      "(742, 900)\n"
     ]
    }
   ],
   "source": [
    "# add dot on center of mass of mask\n",
    "M = cv2.moments(mask_green)\n",
    "cX = int(M[\"m10\"]/M[\"m00\"])\n",
    "cY = int(M[\"m01\"]/M[\"m00\"])\n",
    "print(f\"CoM Green Block: ({cX}, {cY})\")\n",
    "\n",
    "shape = mask_green.shape\n",
    "print(shape)\n"
   ]
  },
  {
   "cell_type": "code",
   "execution_count": 9,
   "id": "04906e0b",
   "metadata": {},
   "outputs": [],
   "source": [
    "#edge Detection using canny\n",
    "edge_img = cv2.imread(\"Images/shapes-01.jpg\")\n",
    "scale_percent = 40 # percent of original size\n",
    "width = int(edge_img.shape[1] * scale_percent / 100)\n",
    "height = int(edge_img.shape[0] * scale_percent / 100)\n",
    "dim = (width, height)\n",
    "resized = cv2.resize(edge_img, dim, interpolation = cv2.INTER_AREA)\n",
    "#convert image to grayscale and blur image\n",
    "edge_gray = cv2.cvtColor(resized, cv2.COLOR_BGR2GRAY)\n",
    "edge_blur = cv2.GaussianBlur(edge_gray, (3,3), 0)\n",
    "# Canny Edge Detection\n",
    "edges = cv2.Canny(image=edge_blur, threshold1=100, threshold2=200) # Canny Edge Detection\n",
    "# Display Canny Edge Detection Image\n",
    "cv2.imshow('Canny Edge Detection', edges)\n",
    "cv2.imwrite('Images/edges.jpg', edges)\n",
    "cv2.waitKey(0)\n",
    "\n",
    "#edge detection using pillow\n",
    "\n",
    "from PIL import Image, ImageFilter\n",
    "  \n",
    "# Opening the image (R prefixed to string\n",
    "# in order to deal with '\\' in paths)\n",
    "image = Image.open(r\"Images/shapes-01.jpg\")\n",
    "  \n",
    "# Converting the image to grayscale, as edge detection \n",
    "# requires input image to be of mode = Grayscale (L)\n",
    "image = image.convert(\"L\")\n",
    "  \n",
    "# Detecting Edges on the Image using the argument ImageFilter.FIND_EDGES\n",
    "image = image.filter(ImageFilter.FIND_EDGES)\n",
    "  \n",
    "# Saving the Image Under the name Edge_Sample.png\n",
    "image.save(r\"Images/Edge_Sample.png\")"
   ]
  },
  {
   "cell_type": "code",
   "execution_count": null,
   "id": "1450b68b",
   "metadata": {},
   "outputs": [],
   "source": []
  }
 ],
 "metadata": {
  "kernelspec": {
   "display_name": "Python 3",
   "language": "python",
   "name": "python3"
  },
  "language_info": {
   "codemirror_mode": {
    "name": "ipython",
    "version": 3
   },
   "file_extension": ".py",
   "mimetype": "text/x-python",
   "name": "python",
   "nbconvert_exporter": "python",
   "pygments_lexer": "ipython3",
   "version": "3.8.8"
  }
 },
 "nbformat": 4,
 "nbformat_minor": 5
}
