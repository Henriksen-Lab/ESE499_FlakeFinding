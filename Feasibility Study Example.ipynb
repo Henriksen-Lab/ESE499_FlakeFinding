{
 "cells": [
  {
   "cell_type": "code",
   "execution_count": null,
   "id": "3e554f3d",
   "metadata": {},
   "outputs": [],
   "source": []
  },
  {
   "cell_type": "markdown",
   "id": "fa0a4bd7",
   "metadata": {},
   "source": [
    "**Feasibility Study Example**"
   ]
  },
  {
   "cell_type": "code",
   "execution_count": 2,
   "id": "ff429c09",
   "metadata": {},
   "outputs": [],
   "source": [
    "# import python packages\n",
    "import cv2\n",
    "import numpy as np\n",
    "import math\n",
    "#from matplotlib import pyplot as plt\n"
   ]
  },
  {
   "cell_type": "code",
   "execution_count": 3,
   "id": "8d1b4945",
   "metadata": {},
   "outputs": [
    {
     "name": "stderr",
     "output_type": "stream",
     "text": [
      "[ WARN:0@2.906] global /Users/runner/work/opencv-python/opencv-python/opencv/modules/imgcodecs/src/loadsave.cpp (239) findDecoder imread_('Images/blocks.jpg'): can't open/read file: check file path/integrity\n"
     ]
    },
    {
     "ename": "error",
     "evalue": "OpenCV(4.6.0) /Users/runner/work/opencv-python/opencv-python/opencv/modules/imgproc/src/color.cpp:182: error: (-215:Assertion failed) !_src.empty() in function 'cvtColor'\n",
     "output_type": "error",
     "traceback": [
      "\u001b[0;31m---------------------------------------------------------------------------\u001b[0m",
      "\u001b[0;31merror\u001b[0m                                     Traceback (most recent call last)",
      "Input \u001b[0;32mIn [3]\u001b[0m, in \u001b[0;36m<cell line: 3>\u001b[0;34m()\u001b[0m\n\u001b[1;32m      1\u001b[0m \u001b[38;5;66;03m# import & display photos\u001b[39;00m\n\u001b[1;32m      2\u001b[0m img1 \u001b[38;5;241m=\u001b[39m cv2\u001b[38;5;241m.\u001b[39mimread(\u001b[38;5;124m\"\u001b[39m\u001b[38;5;124mImages/blocks.jpg\u001b[39m\u001b[38;5;124m\"\u001b[39m)\n\u001b[0;32m----> 3\u001b[0m hsv \u001b[38;5;241m=\u001b[39m \u001b[43mcv2\u001b[49m\u001b[38;5;241;43m.\u001b[39;49m\u001b[43mcvtColor\u001b[49m\u001b[43m(\u001b[49m\u001b[43mimg1\u001b[49m\u001b[43m,\u001b[49m\u001b[43m \u001b[49m\u001b[43mcv2\u001b[49m\u001b[38;5;241;43m.\u001b[39;49m\u001b[43mCOLOR_BGR2HSV\u001b[49m\u001b[43m)\u001b[49m\n\u001b[1;32m      4\u001b[0m cv2\u001b[38;5;241m.\u001b[39mimshow(\u001b[38;5;124m'\u001b[39m\u001b[38;5;124mblocks\u001b[39m\u001b[38;5;124m'\u001b[39m, img1)\n\u001b[1;32m      5\u001b[0m cv2\u001b[38;5;241m.\u001b[39mwaitKey(\u001b[38;5;241m0\u001b[39m)\n",
      "\u001b[0;31merror\u001b[0m: OpenCV(4.6.0) /Users/runner/work/opencv-python/opencv-python/opencv/modules/imgproc/src/color.cpp:182: error: (-215:Assertion failed) !_src.empty() in function 'cvtColor'\n"
     ]
    }
   ],
   "source": [
    "# import & display photos\n",
    "img1 = cv2.imread(\"Images/blocks.jpg\")\n",
    "hsv = cv2.cvtColor(img1, cv2.COLOR_BGR2HSV)\n",
    "cv2.imshow('blocks', img1)\n",
    "cv2.waitKey(0)\n",
    "cv2.destroyAllWindows()"
   ]
  },
  {
   "cell_type": "code",
   "execution_count": 4,
   "id": "e3e8d3fc",
   "metadata": {},
   "outputs": [],
   "source": [
    "# create masks & HSV ranges for red, yellow & green\n",
    "\n",
    "mask_red = cv2.inRange(hsv, (0, 150, 150), (15, 255, 255))\n",
    "cv2.imwrite('Images/red_mask.jpg', mask_red)\n",
    "\n",
    "# read masked image\n",
    "red_mask = cv2.imread('Images/red_mask.jpg')\n",
    "\n",
    "# display masked image\n",
    "cv2.imshow('red mask', red_mask)\n",
    "cv2.waitKey(0)\n",
    "cv2.destroyAllWindows()\n"
   ]
  },
  {
   "cell_type": "code",
   "execution_count": 5,
   "id": "1cd5922d",
   "metadata": {},
   "outputs": [
    {
     "name": "stdout",
     "output_type": "stream",
     "text": [
      "CoM Red Dot: (469, 251)\n"
     ]
    }
   ],
   "source": [
    "# add dot on center of mass of mask\n",
    "M = cv2.moments(mask_red)\n",
    "cX = int(M[\"m10\"]/M[\"m00\"])\n",
    "cY = int(M[\"m01\"]/M[\"m00\"])\n",
    "print(f\"CoM Red Dot: ({cX}, {cY})\")\n",
    "\n",
    "mask_redCoM = mask_red\n",
    "CoM_red = cv2.circle(mask_redCoM, (cX,cY), color = (0, 0, 255), radius = 5, thickness = -1)\n",
    "cv2.imshow('red mask w/ CoM', CoM_red)\n",
    "cv2.waitKey(0)\n",
    "cv2.destroyAllWindows()"
   ]
  },
  {
   "cell_type": "code",
   "execution_count": 6,
   "id": "b4b0c7c2",
   "metadata": {},
   "outputs": [],
   "source": [
    "# create masks & HSV ranges for green\n",
    "\n",
    "mask_green = cv2.inRange(hsv, (100, 150, 150), (150, 255, 255))\n",
    "cv2.imwrite('Images/green_mask.jpg', mask_green)\n",
    "\n",
    "# read masked image\n",
    "green_mask = cv2.imread('Images/green_mask.jpg')\n",
    "\n",
    "# display masked image\n",
    "cv2.imshow('green mask', green_mask)\n",
    "cv2.waitKey(0)\n",
    "cv2.destroyAllWindows()"
   ]
  },
  {
   "cell_type": "code",
   "execution_count": 7,
   "id": "0d325c24",
   "metadata": {},
   "outputs": [
    {
     "name": "stdout",
     "output_type": "stream",
     "text": [
      "CoM Green Block: (424, 372)\n",
      "(742, 900)\n"
     ]
    }
   ],
   "source": [
    "# add dot on center of mass of mask\n",
    "M = cv2.moments(mask_green)\n",
    "cX = int(M[\"m10\"]/M[\"m00\"])\n",
    "cY = int(M[\"m01\"]/M[\"m00\"])\n",
    "print(f\"CoM Green Block: ({cX}, {cY})\")\n",
    "\n",
    "shape = mask_green.shape\n",
    "print(shape)\n"
   ]
  },
  {
   "cell_type": "code",
   "execution_count": 1,
   "id": "04906e0b",
   "metadata": {},
   "outputs": [
    {
     "ename": "NameError",
     "evalue": "name 'cv2' is not defined",
     "output_type": "error",
     "traceback": [
      "\u001b[0;31m---------------------------------------------------------------------------\u001b[0m",
      "\u001b[0;31mNameError\u001b[0m                                 Traceback (most recent call last)",
      "Input \u001b[0;32mIn [1]\u001b[0m, in \u001b[0;36m<cell line: 2>\u001b[0;34m()\u001b[0m\n\u001b[1;32m      1\u001b[0m \u001b[38;5;66;03m#edge Detection using canny\u001b[39;00m\n\u001b[0;32m----> 2\u001b[0m edge_img \u001b[38;5;241m=\u001b[39m \u001b[43mcv2\u001b[49m\u001b[38;5;241m.\u001b[39mimread(\u001b[38;5;124m\"\u001b[39m\u001b[38;5;124mImages/shapes-01.jpg\u001b[39m\u001b[38;5;124m\"\u001b[39m)\n\u001b[1;32m      3\u001b[0m scale_percent \u001b[38;5;241m=\u001b[39m \u001b[38;5;241m40\u001b[39m \u001b[38;5;66;03m# percent of original size\u001b[39;00m\n\u001b[1;32m      4\u001b[0m width \u001b[38;5;241m=\u001b[39m \u001b[38;5;28mint\u001b[39m(edge_img\u001b[38;5;241m.\u001b[39mshape[\u001b[38;5;241m1\u001b[39m] \u001b[38;5;241m*\u001b[39m scale_percent \u001b[38;5;241m/\u001b[39m \u001b[38;5;241m100\u001b[39m)\n",
      "\u001b[0;31mNameError\u001b[0m: name 'cv2' is not defined"
     ]
    }
   ],
   "source": [
    "#edge Detection using canny\n",
    "edge_img = cv2.imread(\"Images/shapes-01.jpg\")\n",
    "scale_percent = 40 # percent of original size\n",
    "width = int(edge_img.shape[1] * scale_percent / 100)\n",
    "height = int(edge_img.shape[0] * scale_percent / 100)\n",
    "dim = (width, height)\n",
    "resized = cv2.resize(edge_img, dim, interpolation = cv2.INTER_AREA)\n",
    "#convert image to grayscale and blur image\n",
    "edge_gray = cv2.cvtColor(resized, cv2.COLOR_BGR2GRAY)\n",
    "edge_blur = cv2.GaussianBlur(edge_gray, (3,3), 0)\n",
    "# Canny Edge Detection\n",
    "edges = cv2.Canny(image=edge_blur, threshold1=100, threshold2=200) # Canny Edge Detection\n",
    "# Display Canny Edge Detection Image\n",
    "cv2.imshow('Canny Edge Detection', edges)\n",
    "cv2.imwrite('Images/edges.jpg', edges)\n",
    "cv2.waitKey(0)\n",
    "\n",
    "#edge detection using pillow\n",
    "\n",
    "from PIL import Image, ImageFilter\n",
    "  \n",
    "# Opening the image (R prefixed to string\n",
    "# in order to deal with '\\' in paths)\n",
    "image = Image.open(r\"Images/shapes-01.jpg\")\n",
    "  \n",
    "# Converting the image to grayscale, as edge detection \n",
    "# requires input image to be of mode = Grayscale (L)\n",
    "image = image.convert(\"L\")\n",
    "  \n",
    "# Detecting Edges on the Image using the argument ImageFilter.FIND_EDGES\n",
    "image = image.filter(ImageFilter.FIND_EDGES)\n",
    "  \n",
    "# Saving the Image Under the name Edge_Sample.png\n",
    "image.save(r\"Images/Edge_Sample.png\")"
   ]
  },
  {
   "cell_type": "code",
   "execution_count": null,
   "id": "1450b68b",
   "metadata": {},
   "outputs": [],
   "source": []
  }
 ],
 "metadata": {
  "kernelspec": {
   "display_name": "Python 3 (ipykernel)",
   "language": "python",
   "name": "python3"
  },
  "language_info": {
   "codemirror_mode": {
    "name": "ipython",
    "version": 3
   },
   "file_extension": ".py",
   "mimetype": "text/x-python",
   "name": "python",
   "nbconvert_exporter": "python",
   "pygments_lexer": "ipython3",
   "version": "3.9.5"
  }
 },
 "nbformat": 4,
 "nbformat_minor": 5
}
