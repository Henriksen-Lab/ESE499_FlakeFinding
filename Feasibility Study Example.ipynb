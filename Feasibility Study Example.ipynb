{
 "cells": [
  {
   "cell_type": "markdown",
   "id": "fa0a4bd7",
   "metadata": {},
   "source": [
    "**Feasibility Study Example**"
   ]
  },
  {
   "cell_type": "code",
   "execution_count": 2,
   "id": "ff429c09",
   "metadata": {},
   "outputs": [],
   "source": [
    "# import python packages\n",
    "import cv2\n",
    "import numpy as np\n",
    "import math\n",
    "#from matplotlib import pyplot as plt"
   ]
  },
  {
   "cell_type": "code",
   "execution_count": 32,
   "id": "8d1b4945",
   "metadata": {},
   "outputs": [],
   "source": [
    "# import & display photos\n",
    "img1 = cv2.imread(\"Images/blocks.jpg\")\n",
    "hsv = cv2.cvtColor(img1, cv2.COLOR_BGR2HSV)\n",
    "cv2.imshow('blocks', img1)\n",
    "cv2.waitKey(0)\n",
    "cv2.destroyAllWindows()"
   ]
  },
  {
   "cell_type": "markdown",
   "id": "550796a2",
   "metadata": {},
   "source": [
    "# Blocks image\n",
    "![blocks image](Images/block.jpg \"blocks\")"
   ]
  },
  {
   "cell_type": "code",
   "execution_count": 47,
   "id": "e3e8d3fc",
   "metadata": {},
   "outputs": [],
   "source": [
    "# create masks & HSV ranges for red, yellow & green\n",
    "\n",
    "mask_red = cv2.inRange(hsv, (0, 150, 150), (15, 255, 255))\n",
    "cv2.imwrite('Images/red_mask.jpg', mask_red)\n",
    "\n",
    "# read masked image\n",
    "red_mask = cv2.imread('Images/red_mask.jpg')\n",
    "\n",
    "# display masked image\n",
    "cv2.imshow('red mask', red_mask)\n",
    "cv2.waitKey(0)\n",
    "cv2.destroyAllWindows()"
   ]
  },
  {
   "cell_type": "markdown",
   "id": "abc67f56",
   "metadata": {},
   "source": [
    "# Blocks w/ red mask\n",
    "![blocks image](Images/red_mask.jpg \"blocks w/ red\")"
   ]
  },
  {
   "cell_type": "code",
   "execution_count": 73,
   "id": "0d325c24",
   "metadata": {},
   "outputs": [
    {
     "name": "stdout",
     "output_type": "stream",
     "text": [
      "CoM Red Dot: (469, 251)\n"
     ]
    }
   ],
   "source": [
    "# add dot on center of mass of mask\n",
    "M = cv2.moments(mask_red)\n",
    "cX = int(M[\"m10\"]/M[\"m00\"])\n",
    "cY = int(M[\"m01\"]/M[\"m00\"])\n",
    "print(f\"CoM Red Dot: ({cX}, {cY})\")\n",
    "\n",
    "mask_redCoM = mask_red\n",
    "CoM_red = cv2.circle(mask_redCoM, (cX,cY), color = (0, 0, 255), radius = 5, thickness = -1)\n",
    "cv2.imshow('red mask w/ CoM', CoM_red)\n",
    "cv2.waitKey(0)\n",
    "cv2.destroyAllWindows()"
   ]
  },
  {
   "cell_type": "code",
   "execution_count": 55,
   "id": "a9111934",
   "metadata": {},
   "outputs": [],
   "source": [
    "# create masks & HSV ranges for green\n",
    "\n",
    "mask_green = cv2.inRange(hsv, (100, 150, 150), (150, 255, 255))\n",
    "cv2.imwrite('Images/green_mask.jpg', mask_green)\n",
    "\n",
    "# read masked image\n",
    "green_mask = cv2.imread('Images/green_mask.jpg')\n",
    "\n",
    "# display masked image\n",
    "cv2.imshow('green mask', green_mask)\n",
    "cv2.waitKey(0)\n",
    "cv2.destroyAllWindows()"
   ]
  },
  {
   "cell_type": "code",
   "execution_count": 51,
   "id": "5db1f340",
   "metadata": {},
   "outputs": [
    {
     "name": "stdout",
     "output_type": "stream",
     "text": [
      "CoM Green Block: (424, 372)\n",
      "(742, 900)\n"
     ]
    }
   ],
   "source": [
    "# add dot on center of mass of mask\n",
    "M = cv2.moments(mask_green)\n",
    "cX = int(M[\"m10\"]/M[\"m00\"])\n",
    "cY = int(M[\"m01\"]/M[\"m00\"])\n",
    "print(f\"CoM Green Block: ({cX}, {cY})\")\n",
    "\n",
    "shape = mask_green.shape\n",
    "print(shape)"
   ]
  },
  {
   "cell_type": "code",
   "execution_count": null,
   "id": "583aaa0e",
   "metadata": {},
   "outputs": [],
   "source": []
  }
 ],
 "metadata": {
  "kernelspec": {
   "display_name": "Python 3 (ipykernel)",
   "language": "python",
   "name": "python3"
  },
  "language_info": {
   "codemirror_mode": {
    "name": "ipython",
    "version": 3
   },
   "file_extension": ".py",
   "mimetype": "text/x-python",
   "name": "python",
   "nbconvert_exporter": "python",
   "pygments_lexer": "ipython3",
   "version": "3.9.5"
  }
 },
 "nbformat": 4,
 "nbformat_minor": 5
}
