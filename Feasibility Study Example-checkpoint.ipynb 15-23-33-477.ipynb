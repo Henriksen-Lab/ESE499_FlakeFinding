{
 "cells": [
  {
   "cell_type": "markdown",
   "id": "fa0a4bd7",
   "metadata": {},
   "source": [
    "**Feasibility Study Example**"
   ]
  },
  {
   "cell_type": "code",
<<<<<<< HEAD
   "execution_count": 6,
=======
   "execution_count": 2,
>>>>>>> c05659c99f7b851cff821b2427753723784e3a67
   "id": "ff429c09",
   "metadata": {},
   "outputs": [
    {
     "ename": "ModuleNotFoundError",
     "evalue": "No module named 'cv2'",
     "output_type": "error",
     "traceback": [
      "\u001b[1;31m---------------------------------------------------------------------------\u001b[0m",
      "\u001b[1;31mModuleNotFoundError\u001b[0m                       Traceback (most recent call last)",
      "\u001b[1;32m<ipython-input-6-edf5ee6c9241>\u001b[0m in \u001b[0;36m<module>\u001b[1;34m\u001b[0m\n\u001b[0;32m      1\u001b[0m \u001b[1;31m# import python packages\u001b[0m\u001b[1;33m\u001b[0m\u001b[1;33m\u001b[0m\u001b[1;33m\u001b[0m\u001b[0m\n\u001b[1;32m----> 2\u001b[1;33m \u001b[1;32mimport\u001b[0m \u001b[0mcv2\u001b[0m\u001b[1;33m\u001b[0m\u001b[1;33m\u001b[0m\u001b[0m\n\u001b[0m\u001b[0;32m      3\u001b[0m \u001b[1;32mimport\u001b[0m \u001b[0mnumpy\u001b[0m \u001b[1;32mas\u001b[0m \u001b[0mnp\u001b[0m\u001b[1;33m\u001b[0m\u001b[1;33m\u001b[0m\u001b[0m\n",
      "\u001b[1;31mModuleNotFoundError\u001b[0m: No module named 'cv2'"
     ]
    }
   ],
   "source": [
    "# import python packages\n",
    "import cv2\n",
<<<<<<< HEAD
    "import numpy as np\n"
=======
    "import numpy as np\n",
    "import math\n",
    "#from matplotlib import pyplot as plt"
>>>>>>> c05659c99f7b851cff821b2427753723784e3a67
   ]
  },
  {
   "cell_type": "code",
<<<<<<< HEAD
   "execution_count": 7,
=======
   "execution_count": 32,
>>>>>>> c05659c99f7b851cff821b2427753723784e3a67
   "id": "8d1b4945",
   "metadata": {},
   "outputs": [
    {
     "ename": "NameError",
     "evalue": "name 'cv2' is not defined",
     "output_type": "error",
     "traceback": [
      "\u001b[1;31m---------------------------------------------------------------------------\u001b[0m",
      "\u001b[1;31mNameError\u001b[0m                                 Traceback (most recent call last)",
      "\u001b[1;32m<ipython-input-7-4433ae0ac18d>\u001b[0m in \u001b[0;36m<module>\u001b[1;34m\u001b[0m\n\u001b[0;32m      1\u001b[0m \u001b[1;31m# import & display photos\u001b[0m\u001b[1;33m\u001b[0m\u001b[1;33m\u001b[0m\u001b[1;33m\u001b[0m\u001b[0m\n\u001b[1;32m----> 2\u001b[1;33m \u001b[0mimg1\u001b[0m \u001b[1;33m=\u001b[0m \u001b[0mcv2\u001b[0m\u001b[1;33m.\u001b[0m\u001b[0mimread\u001b[0m\u001b[1;33m(\u001b[0m\u001b[1;34m\"/Images/blocks.jpg\"\u001b[0m\u001b[1;33m)\u001b[0m\u001b[1;33m\u001b[0m\u001b[1;33m\u001b[0m\u001b[0m\n\u001b[0m\u001b[0;32m      3\u001b[0m \u001b[0mimg_shape\u001b[0m \u001b[1;33m=\u001b[0m \u001b[0mimg\u001b[0m\u001b[1;33m.\u001b[0m\u001b[0mshape\u001b[0m\u001b[1;33m\u001b[0m\u001b[1;33m\u001b[0m\u001b[0m\n",
      "\u001b[1;31mNameError\u001b[0m: name 'cv2' is not defined"
     ]
    }
   ],
   "source": [
    "# import & display photos\n",
<<<<<<< HEAD
    "img1 = cv2.imread(\"/Images/blocks.jpg\")\n",
    "img_shape = img.shape\n"
=======
    "img1 = cv2.imread(\"Images/blocks.jpg\")\n",
    "hsv = cv2.cvtColor(img1, cv2.COLOR_BGR2HSV)\n",
    "cv2.imshow('blocks', img1)\n",
    "cv2.waitKey(0)\n",
    "cv2.destroyAllWindows()"
   ]
  },
  {
   "cell_type": "markdown",
   "id": "550796a2",
   "metadata": {},
   "source": [
    "# Blocks image\n",
    "![blocks image](Images/block.jpg \"blocks\")"
>>>>>>> c05659c99f7b851cff821b2427753723784e3a67
   ]
  },
  {
   "cell_type": "code",
<<<<<<< HEAD
   "execution_count": 8,
=======
   "execution_count": 47,
>>>>>>> c05659c99f7b851cff821b2427753723784e3a67
   "id": "e3e8d3fc",
   "metadata": {},
   "outputs": [
    {
     "ename": "NameError",
     "evalue": "name 'cv2' is not defined",
     "output_type": "error",
     "traceback": [
      "\u001b[1;31m---------------------------------------------------------------------------\u001b[0m",
      "\u001b[1;31mNameError\u001b[0m                                 Traceback (most recent call last)",
      "\u001b[1;32m<ipython-input-8-952573839707>\u001b[0m in \u001b[0;36m<module>\u001b[1;34m\u001b[0m\n\u001b[0;32m      1\u001b[0m \u001b[1;31m# create masks & HSV ranges for red, yellow & green\u001b[0m\u001b[1;33m\u001b[0m\u001b[1;33m\u001b[0m\u001b[1;33m\u001b[0m\u001b[0m\n\u001b[1;32m----> 2\u001b[1;33m \u001b[0mhsv\u001b[0m \u001b[1;33m=\u001b[0m \u001b[0mcv2\u001b[0m\u001b[1;33m.\u001b[0m\u001b[0mcvtcolor\u001b[0m\u001b[1;33m(\u001b[0m\u001b[0mimg1\u001b[0m\u001b[1;33m,\u001b[0m \u001b[0mcv2\u001b[0m\u001b[1;33m.\u001b[0m\u001b[0mCOLOR_BGR2HSV\u001b[0m\u001b[1;33m)\u001b[0m\u001b[1;33m\u001b[0m\u001b[1;33m\u001b[0m\u001b[0m\n\u001b[0m\u001b[0;32m      3\u001b[0m \u001b[1;31m#mask_red = cv2.inRange(hsv, (R1, G1, B1), (R2, G2, B2))\u001b[0m\u001b[1;33m\u001b[0m\u001b[1;33m\u001b[0m\u001b[1;33m\u001b[0m\u001b[0m\n",
      "\u001b[1;31mNameError\u001b[0m: name 'cv2' is not defined"
     ]
    }
   ],
   "source": [
    "# create masks & HSV ranges for red, yellow & green\n",
<<<<<<< HEAD
    "hsv = cv2.cvtcolor(img1, cv2.COLOR_BGR2HSV)\n",
    "#mask_red = cv2.inRange(hsv, (R1, G1, B1), (R2, G2, B2))"
=======
    "\n",
    "mask_red = cv2.inRange(hsv, (0, 150, 150), (15, 255, 255))\n",
    "cv2.imwrite('Images/red_mask.jpg', mask_red)\n",
    "\n",
    "# read masked image\n",
    "red_mask = cv2.imread('Images/red_mask.jpg')\n",
    "\n",
    "# display masked image\n",
    "cv2.imshow('red mask', red_mask)\n",
    "cv2.waitKey(0)\n",
    "cv2.destroyAllWindows()"
   ]
  },
  {
   "cell_type": "markdown",
   "id": "abc67f56",
   "metadata": {},
   "source": [
    "# Blocks w/ red mask\n",
    "![blocks image](Images/red_mask.jpg \"blocks w/ red\")"
>>>>>>> c05659c99f7b851cff821b2427753723784e3a67
   ]
  },
  {
   "cell_type": "code",
   "execution_count": 73,
   "id": "0d325c24",
   "metadata": {},
   "outputs": [
    {
     "name": "stdout",
     "output_type": "stream",
     "text": [
      "CoM Red Dot: (469, 251)\n"
     ]
    }
   ],
   "source": [
<<<<<<< HEAD
    "# mask photos\n",
    "# cv2.imwrite('red_mask.jpg', mask_red)"
=======
    "# add dot on center of mass of mask\n",
    "M = cv2.moments(mask_red)\n",
    "cX = int(M[\"m10\"]/M[\"m00\"])\n",
    "cY = int(M[\"m01\"]/M[\"m00\"])\n",
    "print(f\"CoM Red Dot: ({cX}, {cY})\")\n",
    "\n",
    "mask_redCoM = mask_red\n",
    "CoM_red = cv2.circle(mask_redCoM, (cX,cY), color = (0, 0, 255), radius = 5, thickness = -1)\n",
    "cv2.imshow('red mask w/ CoM', CoM_red)\n",
    "cv2.waitKey(0)\n",
    "cv2.destroyAllWindows()"
>>>>>>> c05659c99f7b851cff821b2427753723784e3a67
   ]
  },
  {
   "cell_type": "code",
   "execution_count": 55,
   "id": "a9111934",
   "metadata": {},
   "outputs": [],
   "source": [
    "# create masks & HSV ranges for green\n",
    "\n",
    "mask_green = cv2.inRange(hsv, (100, 150, 150), (150, 255, 255))\n",
    "cv2.imwrite('Images/green_mask.jpg', mask_green)\n",
    "\n",
    "# read masked image\n",
    "green_mask = cv2.imread('Images/green_mask.jpg')\n",
    "\n",
    "# display masked image\n",
    "cv2.imshow('green mask', green_mask)\n",
    "cv2.waitKey(0)\n",
    "cv2.destroyAllWindows()"
   ]
  },
  {
   "cell_type": "code",
   "execution_count": 51,
   "id": "5db1f340",
   "metadata": {},
   "outputs": [
    {
     "name": "stdout",
     "output_type": "stream",
     "text": [
      "CoM Green Block: (424, 372)\n",
      "(742, 900)\n"
     ]
    }
   ],
   "source": [
    "# add dot on center of mass of mask\n",
    "M = cv2.moments(mask_green)\n",
    "cX = int(M[\"m10\"]/M[\"m00\"])\n",
    "cY = int(M[\"m01\"]/M[\"m00\"])\n",
    "print(f\"CoM Green Block: ({cX}, {cY})\")\n",
    "\n",
    "shape = mask_green.shape\n",
    "print(shape)"
   ]
  },
  {
   "cell_type": "code",
   "execution_count": null,
   "id": "583aaa0e",
   "metadata": {},
   "outputs": [],
   "source": [
    "# add dot on center of mass of mask\n",
    "M = cv2.moments(mask_red)\n",
    "cX = int(M[\"m10\"]/M[\"m00\"])\n",
    "cY = int(M[\"m10\"]/M[\"m00\"])\n",
    "print(f\"Center: ({cX}, {cY})\")\n"
   ]
  }
 ],
 "metadata": {
  "kernelspec": {
<<<<<<< HEAD
   "display_name": "Python 3",
=======
   "display_name": "Python 3 (ipykernel)",
>>>>>>> c05659c99f7b851cff821b2427753723784e3a67
   "language": "python",
   "name": "python3"
  },
  "language_info": {
   "codemirror_mode": {
    "name": "ipython",
    "version": 3
   },
   "file_extension": ".py",
   "mimetype": "text/x-python",
   "name": "python",
   "nbconvert_exporter": "python",
   "pygments_lexer": "ipython3",
<<<<<<< HEAD
   "version": "3.8.8"
=======
   "version": "3.9.5"
>>>>>>> c05659c99f7b851cff821b2427753723784e3a67
  }
 },
 "nbformat": 4,
 "nbformat_minor": 5
}
