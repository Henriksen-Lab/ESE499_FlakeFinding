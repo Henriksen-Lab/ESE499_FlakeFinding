{
 "cells": [
  {
   "cell_type": "markdown",
   "id": "2299a36f",
   "metadata": {},
   "source": [
    "## Thickness Classifying ##\n",
    "#### Primary Author: Olivia Schriber\n",
    "Approach:\n",
    "1. Read in image\n",
    "2. Mask with hsv\n",
    "3. Blur 5,5 \n",
    "4. thresh image\n",
    "5. dot on COM\n",
    "\n"
   ]
  },
  {
   "cell_type": "code",
   "execution_count": 1,
   "id": "bb45266d",
   "metadata": {},
   "outputs": [],
   "source": [
    "import cv2\n",
    "import numpy as np\n",
    "import math\n",
    "import colorsys\n",
    "\n",
    "img1 = cv2.imread(\"Images/GRAPHENE/ml_1/ml_a_10x.jpg\")\n"
   ]
  },
  {
   "cell_type": "markdown",
   "id": "cf52a4e1",
   "metadata": {},
   "source": []
  },
  {
   "cell_type": "code",
   "execution_count": 2,
   "id": "b3785d3f",
   "metadata": {},
   "outputs": [
    {
     "name": "stdout",
     "output_type": "stream",
     "text": [
      "4915200\n",
      "[[-1.03573441 -1.08551862 -2.99614996]\n",
      " [-0.46248962  1.07113197 -4.27748964]]\n"
     ]
    },
    {
     "name": "stderr",
     "output_type": "stream",
     "text": [
      "Clipping input data to the valid range for imshow with RGB data ([0..1] for floats or [0..255] for integers).\n"
     ]
    },
    {
     "data": {
      "image/png": "[encoded data removed]",
      "text/plain": [
       "<Figure size 432x288 with 1 Axes>"
      ]
     },
     "metadata": {
      "needs_background": "light"
     },
     "output_type": "display_data"
    }
   ],
   "source": [
    "#https://www.dataquest.io/blog/tutorial-colors-image-clustering-python/\n",
    "# trying to cluster to find most common pixel\n",
    "\n",
    "import PIL\n",
    "import matplotlib\n",
    "import scipy\n",
    "\n",
    "\n",
    "from matplotlib import image as img\n",
    "import matplotlib.pyplot as plt\n",
    "import pandas as pd\n",
    "from scipy.cluster.vq import whiten\n",
    "from scipy.cluster.vq import kmeans\n",
    "\n",
    "image = img.imread('Images/GRAPHENE/ml_1/ml_a_10x.jpg')\n",
    "\n",
    "image.reshape(2560, 1920, 3)\n",
    "\n",
    "r = []\n",
    "g = []\n",
    "b = []\n",
    "for line in image:\n",
    "    for pixel in line:\n",
    "        temp_r, temp_g, temp_b = pixel\n",
    "        r.append(temp_r)\n",
    "        g.append(temp_g)\n",
    "        b.append(temp_b)\n",
    "        \n",
    "print(len(r))\n",
    "    \n",
    "\n",
    "df = pd.DataFrame({'red': r,\n",
    "'blue': b,\n",
    "'green': g})\n",
    "\n",
    "\n",
    "df['scaled_red'] = whiten(df['red'])\n",
    "df['scaled_blue'] = whiten(df['blue'])\n",
    "df['scaled_green'] = whiten(df['green'])\n",
    "df.sample(n = 10)\n",
    "\n",
    "\n",
    "cluster_centers, distortion = kmeans(df[['scaled_red', 'scaled_green', 'scaled_blue']], 2)\n",
    "\n",
    "print(cluster_centers)\n",
    "\n",
    "colors = []\n",
    "r_std, g_std, b_std = df[['red', 'green', 'blue']].std()\n",
    "\n",
    "for cluster_center in cluster_centers:\n",
    "    scaled_r, scaled_g, scaled_b = cluster_center\n",
    "    colors.append((\n",
    "        scaled_r * r_std / 255,\n",
    "        scaled_g * g_std / 255,\n",
    "        scaled_b * b_std / 255\n",
    "        ))\n",
    "plt.imshow([colors])\n",
    "plt.show()\n"
   ]
  },
  {
   "cell_type": "code",
   "execution_count": 3,
   "id": "e16b962e",
   "metadata": {},
   "outputs": [
    {
     "name": "stdout",
     "output_type": "stream",
     "text": [
      "[124.45544554455445, 116.01351351351352, 222]\n",
      "[124.33333333333334, 103.84615384615384, 221]\n"
     ]
    },
    {
     "data": {
      "text/plain": [
       "True"
      ]
     },
     "execution_count": 3,
     "metadata": {},
     "output_type": "execute_result"
    }
   ],
   "source": [
    "hsv = cv2.cvtColor(img1, cv2.COLOR_BGR2HSV)\n",
    "# RGB what we want rgba(136,121,222,255)\n",
    "# RGB what we dont rgba(144,131,221,255)\n",
    "\n",
    "# hsv color picker from image https://imagecolorpicker.com/en \n",
    "\n",
    "hsvwant=colorsys.rgb_to_hsv(136,121,222)\n",
    "hsvwant=list(hsvwant)\n",
    "hsvwant[0] = hsvwant[0]*180\n",
    "hsvwant[1]=hsvwant[1]*255\n",
    "hsvwant[0]*255\n",
    "print(hsvwant)\n",
    "\n",
    "\n",
    "hsvdontwant=colorsys.rgb_to_hsv(144,131,221)\n",
    "hsvdontwant=list(hsvdontwant)\n",
    "hsvdontwant[0] = hsvdontwant[0]*180\n",
    "hsvdontwant[1]=hsvdontwant[1]*255\n",
    "hsvdontwant[0]*255\n",
    "print(hsvdontwant) \n",
    "\n",
    "#biayermask bl2\n",
    "#mask_contrast = cv2.inRange(hsv, (120, 104, 0), (122, 120, 255))\n",
    "\n",
    "#bi?layer mask 50x for bl_1 \n",
    "#mask_contrast = cv2.inRange(hsv, (135, 0, 0), (150, 100, 255))\n",
    "\n",
    "#monolayermask, somewhat works with ml_2, not so much with ml_3, not at all w ml_1\n",
    "#mask_contrast = cv2.inRange(hsv, (120, 104, 0), (122, 120, 255))\n",
    "\n",
    "#monolayermask ml_1\n",
    "mask_contrast = cv2.inRange(hsv, (120, 105, 0), (125, 125, 255))\n",
    "\n",
    "cv2.imwrite('Images/GRAPHENE/ml_1/ml_a_10xMASKED.jpg', mask_contrast)\n"
   ]
  },
  {
   "cell_type": "raw",
   "id": "d96b9b4a",
   "metadata": {},
   "source": []
  },
  {
   "cell_type": "code",
   "execution_count": 4,
   "id": "2e2b6ea2",
   "metadata": {},
   "outputs": [
    {
     "data": {
      "text/plain": [
       "True"
      ]
     },
     "execution_count": 4,
     "metadata": {},
     "output_type": "execute_result"
    }
   ],
   "source": [
    "maskblur= cv2.blur(mask_contrast, (5,5))\n",
    "thresh = cv2.threshold(maskblur, 200, 255, cv2.THRESH_BINARY)[1]\n",
    "cv2.imwrite('Images/GRAPHENE/ml_1/ml_a_10xTHRESHED.jpg', thresh)"
   ]
  },
  {
   "cell_type": "raw",
   "id": "f8df1df8",
   "metadata": {},
   "source": []
  },
  {
   "cell_type": "code",
   "execution_count": 5,
   "id": "8b809c49",
   "metadata": {},
   "outputs": [
    {
     "name": "stdout",
     "output_type": "stream",
     "text": [
      "Center : (1186, 952)\n"
     ]
    },
    {
     "data": {
      "text/plain": [
       "True"
      ]
     },
     "execution_count": 5,
     "metadata": {},
     "output_type": "execute_result"
    }
   ],
   "source": [
    "M = cv2.moments(thresh)\n",
    "cX = int(M[\"m10\"]/M[\"m00\"])\n",
    "cY = int(M[\"m01\"]/M[\"m00\"])\n",
    "print(f'Center : ({cX}, {cY})') # center of mass\n",
    "\n",
    "img1wcirc = cv2.circle(img1, (cX,cY), 2, (0,0,255), 10) #draw center of mass (for specific color) circle on image\n",
    "cv2.imwrite('Images/GRAPHENE/ml_1/ml_a_10xImgWithCOM.jpg',img1wcirc )\n"
   ]
  },
  {
   "cell_type": "code",
   "execution_count": 40,
   "id": "9706d8d9",
   "metadata": {},
   "outputs": [
    {
     "name": "stdout",
     "output_type": "stream",
     "text": [
      "I have counted my colors\n",
      "(202, 132, 163)\n",
      "[166.71428571428572, 88.36633663366337, 202]\n"
     ]
    },
    {
     "data": {
      "text/plain": [
       "True"
      ]
     },
     "execution_count": 40,
     "metadata": {},
     "output_type": "execute_result"
    }
   ],
   "source": [
    "## Finding background color \n",
    "\n",
    "#https://medium.com/generalist-dev/background-colour-detection-using-opencv-and-python-22ed8655b243\n",
    "\n",
    "imagehere = cv2.imread(\"Images/GRAPHENE/bl_1/bl_a_50x.jpg\",1)\n",
    "\n",
    "colors_count={}\n",
    "\n",
    "\n",
    "(channel_b, channel_g, channel_r) = cv2.split(imagehere)\n",
    "    \n",
    "channel_b = channel_b.flatten()\n",
    "channel_g = channel_g.flatten()  \n",
    "channel_r = channel_r.flatten()\n",
    "        \n",
    "for i in range(len(channel_b)):\n",
    "    RGB = tuple([channel_r[i], channel_g[i], channel_b[i]])\n",
    "    if RGB in colors_count:\n",
    "        colors_count[RGB] += 1\n",
    "    else:\n",
    "        colors_count[RGB] = 1\n",
    "                \n",
    "print(\"I have counted my colors\")\n",
    "                \n",
    "j=0;\n",
    "for keys in sorted(colors_count, key=colors_count.__getitem__):\n",
    "    j=j+1\n",
    "            # Prints 'key: value'\n",
    "    # print(keys, \": \",colors_count[keys])\n",
    "    if j==len(colors_count):\n",
    "        max_seen=keys\n",
    "        red_oi=max_seen[0]\n",
    "        green_oi=max_seen[1]\n",
    "        blue_oi=max_seen[2]\n",
    "        \n",
    "blank_img = cv2.imread(\"Images/Logotesting/white_sqaure.png\")\n",
    "\n",
    "bkgnd_color = ( int (max_seen [ 2 ]), int (max_seen[ 1 ]), int (max_seen [ 0 ])) \n",
    "        \n",
    "color_swatch=cv2.circle(blank_img, (200,200), 2, bkgnd_color, 150) #draw center of mass (for specific color) circle on image)\n",
    "                       \n",
    "cv2.imwrite(\"Images/GRAPHENE/bl_1/bl_a_50x_backgroundcolor.jpg\", color_swatch)\n",
    "\n",
    "print(bkgnd_color)\n",
    "\n",
    "hsv_bkgnd_color=colorsys.rgb_to_hsv(bkgnd_color[0],bkgnd_color[1],bkgnd_color[2])\n",
    "\n",
    "\n",
    "\n",
    "hsv_bkgnd_color=list(hsv_bkgnd_color)\n",
    "hsv_bkgnd_color[0] = hsv_bkgnd_color[0]*180\n",
    "hsv_bkgnd_color[1]=hsv_bkgnd_color[1]*255\n",
    "\n",
    "\n",
    "h_bkgnd=hsv_bkgnd_color[0]\n",
    "s_bkgnd=hsv_bkgnd_color[1]\n",
    "v_bkgnd=hsv_bkgnd_color[2]\n",
    "\n",
    "print(hsv_bkgnd_color)\n",
    "hsv = cv2.cvtColor(imagehere, cv2.COLOR_BGR2HSV)\n",
    "\n",
    "mask_contrast_wbkgnd_bilayer = cv2.inRange(hsv, (h_bkgnd-31, 0, 0), (h_bkgnd-22, s_bkgnd+20, 255))\n",
    "    \n",
    "cv2.imwrite('Images/GRAPHENE/bl_1/bl_a_50xMASKEDWBKGND.jpg', mask_contrast_wbkgnd_bilayer)\n",
    "maskblurwbkgnd= cv2.blur(mask_contrast_wbkgnd_bilayer, (5,5))\n",
    "threshwbkgnd= cv2.threshold(maskblurwbkgnd, 200, 255, cv2.THRESH_BINARY)[1]\n",
    "cv2.imwrite('Images/GRAPHENE/bl_1/ml_a_50xTHRESHEDWBKGND.jpg', threshwbkgnd)\n",
    "                "
   ]
  },
  {
   "cell_type": "code",
   "execution_count": null,
   "id": "2223a057",
   "metadata": {},
   "outputs": [],
   "source": []
  }
 ],
 "metadata": {
  "kernelspec": {
   "display_name": "Python 3 (ipykernel)",
   "language": "python",
   "name": "python3"
  },
  "language_info": {
   "codemirror_mode": {
    "name": "ipython",
    "version": 3
   },
   "file_extension": ".py",
   "mimetype": "text/x-python",
   "name": "python",
   "nbconvert_exporter": "python",
   "pygments_lexer": "ipython3",
   "version": "3.9.12"
  }
 },
 "nbformat": 4,
 "nbformat_minor": 5
}
