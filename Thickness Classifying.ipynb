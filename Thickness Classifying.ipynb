{
 "cells": [
  {
   "cell_type": "markdown",
   "id": "759b0985",
   "metadata": {},
   "source": [
    "## Thickness Classifying ##\n",
    "\n",
    "Approach:\n",
    "1. \n",
    "2.\n",
    "3."
   ]
  }
 ],
 "metadata": {
  "kernelspec": {
   "display_name": "Python 3 (ipykernel)",
   "language": "python",
   "name": "python3"
  },
  "language_info": {
   "codemirror_mode": {
    "name": "ipython",
    "version": 3
   },
   "file_extension": ".py",
   "mimetype": "text/x-python",
   "name": "python",
   "nbconvert_exporter": "python",
   "pygments_lexer": "ipython3",
   "version": "3.9.5"
  }
 },
 "nbformat": 4,
 "nbformat_minor": 5
}
