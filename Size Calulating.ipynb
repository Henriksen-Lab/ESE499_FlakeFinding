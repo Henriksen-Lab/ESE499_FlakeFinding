{
 "cells": [
  {
   "cell_type": "markdown",
   "id": "42b8c75d",
   "metadata": {},
   "source": [
    "## Size Calculating ##\n",
    "\n",
    "Approach:\n",
    "1. Input: array of x,y,w,h of bounding rectangles for all flakes or contours\n",
    "2. Calculate longest side of all flakes\n",
    "3. Filter out flakes that are too small or too large\n",
    "4. Output: array of x,y,w,h of \"usable flakes\""
   ]
  },
  {
   "cell_type": "code",
   "execution_count": 2,
   "id": "2c0fe638",
   "metadata": {},
   "outputs": [],
   "source": [
    "# import python packages\n",
    "import cv2\n",
    "import numpy as np\n",
    "import math\n",
    "from scipy.spatial import distance as dist\n",
    "from imutils import perspective\n",
    "from imutils import contours\n",
    "import numpy as np\n",
    "import argparse\n",
    "import imutils\n",
    "import cv2\n",
    "#from matplotlib import pyplot as plt"
   ]
  },
  {
   "cell_type": "markdown",
   "id": "7f52ad48",
   "metadata": {},
   "source": [
    "## Micrometers/pixel conversion 50x RESIZED"
   ]
  },
  {
   "cell_type": "code",
   "execution_count": 5,
   "id": "00a776bc",
   "metadata": {
    "scrolled": true
   },
   "outputs": [
    {
     "name": "stdout",
     "output_type": "stream",
     "text": [
      "original image shape (1920, 2560, 3)\n",
      "resized image shape (768, 1024, 3)\n",
      "50x:  0.44985389419738137 micrometers/pixel\n"
     ]
    }
   ],
   "source": [
    "# read in image & convert to hsv values or grayscale\n",
    "imageusing = \"Images/GRAPHENE/bl_1/bl_a_50x\"\n",
    "img50 = cv2.imread(imageusing+\".jpg\")\n",
    "\n",
    "# resize image\n",
    "scale_percent = 40 # percent of original size\n",
    "width = int(img50.shape[1] * scale_percent / 100)\n",
    "height = int(img50.shape[0] * scale_percent / 100)\n",
    "dim = (width, height)\n",
    "resized = cv2.resize(img50, dim, interpolation = cv2.INTER_AREA)\n",
    "resized_wo_rect=resized\n",
    "cv2.imwrite(imageusing+\"_resized.jpg\", resized_wo_rect)\n",
    "print('original image shape', img50.shape)\n",
    "print('resized image shape', resized.shape)\n",
    "\n",
    "# convert to grayscale\n",
    "hsv = cv2.cvtColor(resized, cv2.COLOR_BGR2HSV)\n",
    "img50_gray = cv2.cvtColor(resized, cv2.COLOR_BGR2GRAY)\n",
    "\n",
    "# create a mask for white values only\n",
    "mask50 = cv2.inRange(hsv, (0, 0, 255), (255, 255, 255))\n",
    "\n",
    "# find & draw contours\n",
    "thresh = cv2.threshold(img50_gray, 225, 255, cv2.THRESH_BINARY)[1]\n",
    "contours, hierarchy = cv2.findContours(thresh, cv2.RETR_TREE, cv2.CHAIN_APPROX_SIMPLE)\n",
    "cnt50 = cv2.drawContours(img50_gray, contours, 22, (0,255,0), 3)\n",
    "\n",
    "# coordinates and dimensions of bounding rectangle\n",
    "x,y,w,h = cv2.boundingRect(contours[22])\n",
    "# draw bounding rectangle\n",
    "cv2.rectangle(cnt50,(x,y),(x+w,y+h),(255,0,0))\n",
    "cv2.imwrite('Images/GRAPHENE/bl_1/bl_a_50x_CNTR.jpg', cnt50)\n",
    "\n",
    "# hypotenuse calculation in pixels\n",
    "hyp = math.sqrt(w**2 + h**2)\n",
    "\n",
    "# pixel to micrometer ratio\n",
    "p2mm_50 = 129.905/hyp\n",
    "print('50x: ', p2mm_50, 'micrometers/pixel')"
   ]
  },
  {
   "cell_type": "markdown",
   "id": "131b6720",
   "metadata": {},
   "source": [
    "## Micrometers/pixel conversion 50x"
   ]
  },
  {
   "cell_type": "code",
   "execution_count": 8,
   "id": "40e78981",
   "metadata": {},
   "outputs": [
    {
     "name": "stdout",
     "output_type": "stream",
     "text": [
      "50x:  0.17982639559452884 micrometers/pixel\n"
     ]
    }
   ],
   "source": [
    "# read in image & convert to hsv values or grayscale\n",
    "imageusing = \"Images/GRAPHENE/bl_1/bl_a_50x\"\n",
    "img50 = cv2.imread(imageusing+\".jpg\")\n",
    "\n",
    "# convert to grayscale\n",
    "hsv = cv2.cvtColor(img50, cv2.COLOR_BGR2HSV)\n",
    "img50_gray = cv2.cvtColor(img50, cv2.COLOR_BGR2GRAY)\n",
    "\n",
    "# create a mask for white values only\n",
    "mask50 = cv2.inRange(hsv, (0, 0, 255), (255, 255, 255))\n",
    "\n",
    "# find & draw contours\n",
    "thresh = cv2.threshold(img50_gray, 225, 255, cv2.THRESH_BINARY)[1]\n",
    "contours, hierarchy = cv2.findContours(thresh, cv2.RETR_TREE, cv2.CHAIN_APPROX_SIMPLE)\n",
    "cnt50 = cv2.drawContours(img50_gray, contours, 22, (0,255,0), 3)\n",
    "\n",
    "# coordinates and dimensions of bounding rectangle\n",
    "x,y,w,h = cv2.boundingRect(contours[22])\n",
    "# draw bounding rectangle\n",
    "cv2.rectangle(cnt50,(x,y),(x+w,y+h),(255,0,0))\n",
    "cv2.imwrite('Images/GRAPHENE/bl_1/bl_a_50x_CNTR.jpg', cnt50)\n",
    "\n",
    "# hypotenuse calculation in pixels\n",
    "hyp = math.sqrt(w**2 + h**2)\n",
    "\n",
    "# pixel to micrometer ratio\n",
    "p2mm_50 = 129.905/hyp\n",
    "print('50x: ', p2mm_50, 'micrometers/pixel')"
   ]
  },
  {
   "cell_type": "markdown",
   "id": "d1d601fb",
   "metadata": {},
   "source": [
    "## Micrometers/pixel conversion 20x RESIZED"
   ]
  },
  {
   "cell_type": "code",
   "execution_count": 22,
   "id": "12239996",
   "metadata": {},
   "outputs": [
    {
     "name": "stdout",
     "output_type": "stream",
     "text": [
      "original image shape (1920, 2560, 3)\n",
      "resized image shape (768, 1024, 3)\n",
      "20x:  0.4854368932038835 micrometers/pixel\n"
     ]
    }
   ],
   "source": [
    "# read in image & convert to hsv values or grayscale\n",
    "imageusing = \"Images/GRAPHENE/bl_3/bl_a_20x\" # 20x image\n",
    "img20 = cv2.imread(imageusing+\".jpg\")\n",
    "\n",
    "# resize image\n",
    "scale_percent = 40 # percent of original size\n",
    "width = int(img20.shape[1] * scale_percent / 100)\n",
    "height = int(img20.shape[0] * scale_percent / 100)\n",
    "dim = (width, height)\n",
    "resized20 = cv2.resize(img20, dim, interpolation = cv2.INTER_AREA)\n",
    "resized_wo_rect=resized20\n",
    "cv2.imwrite(imageusing+\"_resized.jpg\", resized_wo_rect)\n",
    "print('original image shape', img20.shape)\n",
    "print('resized image shape', resized20.shape)\n",
    "\n",
    "# convert to grayscale\n",
    "hsv = cv2.cvtColor(resized, cv2.COLOR_BGR2HSV)\n",
    "img20_gray = cv2.cvtColor(resized20, cv2.COLOR_BGR2GRAY)\n",
    "\n",
    "# create a mask for white values only\n",
    "mask20 = cv2.inRange(hsv, (0, 0, 255), (255, 255, 255))\n",
    "\n",
    "# find & draw contours\n",
    "thresh20 = cv2.threshold(img20_gray, 225, 255, cv2.THRESH_BINARY)[1]\n",
    "contours20, hierarchy = cv2.findContours(thresh20, cv2.RETR_TREE, cv2.CHAIN_APPROX_SIMPLE)\n",
    "cnt20 = cv2.drawContours(img20_gray, contours20, 0, (0,255,0), 3)\n",
    "cnt0 = contours20[0]\n",
    "cv2.imwrite('Images/GRAPHENE/bl_3/bl_a_20x_CNTR.jpg', cnt20)\n",
    "\n",
    "# coordinates and dimensions of bounding rectangle\n",
    "x,y,w,h = cv2.boundingRect(cnt0)\n",
    "# draw bounding rectangle\n",
    "cv2.rectangle(cnt20,(x,y),(x+w,y+h),(255,0,0))\n",
    "cv2.imwrite(\"Images/GRAPHENE/bl_3/bl_a_20x_RECT.jpg\", cnt20)\n",
    "\n",
    "# pixel to micrometer ratio\n",
    "p2mm_20 = 50/w # w = width in pixels of contour around 50 micrometer object\n",
    "print('20x: ', p2mm_20, 'micrometers/pixel')"
   ]
  },
  {
   "cell_type": "markdown",
   "id": "69afcd38",
   "metadata": {},
   "source": [
    "## Micrometers/pixel conversion 20x"
   ]
  },
  {
   "cell_type": "code",
   "execution_count": 6,
   "id": "d53ee514",
   "metadata": {},
   "outputs": [
    {
     "name": "stdout",
     "output_type": "stream",
     "text": [
      "20x:  0.19305019305019305 micrometers/pixel\n"
     ]
    }
   ],
   "source": [
    "# read in image & convert to hsv values or grayscale\n",
    "imageusing = \"Images/GRAPHENE/bl_3/bl_a_20x\" # 20x image\n",
    "img20 = cv2.imread(imageusing+\".jpg\")\n",
    "\n",
    "# convert to grayscale\n",
    "hsv = cv2.cvtColor(img20, cv2.COLOR_BGR2HSV)\n",
    "img20_gray = cv2.cvtColor(img20, cv2.COLOR_BGR2GRAY)\n",
    "\n",
    "# create a mask for white values only\n",
    "mask20 = cv2.inRange(hsv, (0, 0, 255), (255, 255, 255))\n",
    "\n",
    "# find & draw contours\n",
    "thresh20 = cv2.threshold(img20_gray, 225, 255, cv2.THRESH_BINARY)[1]\n",
    "contours20, hierarchy = cv2.findContours(thresh20, cv2.RETR_TREE, cv2.CHAIN_APPROX_SIMPLE)\n",
    "cnt20 = cv2.drawContours(img20_gray, contours20, 0, (0,255,0), 3)\n",
    "cnt0 = contours20[0]\n",
    "cv2.imwrite('Images/GRAPHENE/bl_3/bl_a_20x_CNTR.jpg', cnt20)\n",
    "\n",
    "# coordinates and dimensions of bounding rectangle\n",
    "x,y,w,h = cv2.boundingRect(cnt0)\n",
    "# draw bounding rectangle\n",
    "cv2.rectangle(cnt20,(x,y),(x+w,y+h),(255,0,0))\n",
    "cv2.imwrite(\"Images/GRAPHENE/bl_3/bl_a_20x_RECT.jpg\", cnt20)\n",
    "\n",
    "# pixel to micrometer ratio\n",
    "p2mm_20 = 50/w # w = width in pixels of contour around 50 micrometer object\n",
    "print('20x: ', p2mm_20, 'micrometers/pixel')"
   ]
  },
  {
   "cell_type": "markdown",
   "id": "6e445dfb",
   "metadata": {},
   "source": [
    "## Micrometers/pixel conversion 2.5x"
   ]
  },
  {
   "cell_type": "code",
   "execution_count": 9,
   "id": "79ef8db9",
   "metadata": {},
   "outputs": [
    {
     "name": "stdout",
     "output_type": "stream",
     "text": [
      "image shape (1920, 2560, 3)\n",
      "2.5x:  0.876514450867052 micrometers/pixel\n"
     ]
    }
   ],
   "source": [
    "# read in image & convert to HSV values\n",
    "img2 = cv2.imread(\"Images/GRAPHENE/bl_2/bl_a_2.5x.jpg\")\n",
    "print('image shape', img2.shape)\n",
    "hsv = cv2.cvtColor(img2, cv2.COLOR_BGR2HSV)\n",
    "gray = cv2.cvtColor(img2, cv2.COLOR_BGR2GRAY)\n",
    "\n",
    "# create a mask for red values only & write to B&W photo\n",
    "mask2 = cv2.inRange(hsv, (155, 50, 50), (180, 255, 255))\n",
    "mask2 = cv2.blur(mask2, (10,10))\n",
    "cv2.imwrite('Images/GRAPHENE/bl_2/bl_a_2.5x_BW.jpg', mask2)\n",
    "\n",
    "# detect circles in image using HoughCricles\n",
    "detected_circles = cv2.HoughCircles(gray, cv2.HOUGH_GRADIENT, 1, 20,\\\n",
    "                                   param1 = 50, param2 = 30, minRadius = 250,\\\n",
    "                                   maxRadius = 270)\n",
    "\n",
    "if detected_circles is not None:\n",
    "    \n",
    "    radius = []\n",
    "    for pt in detected_circles[0,:]:\n",
    "        radius = pt[2]\n",
    "        \n",
    "    detected_circles = np.uint16(np.around(detected_circles))\n",
    "    for pt in detected_circles[0,:]:\n",
    "        a, b, r = pt[0], pt[1], pt[2]\n",
    "        cv2.circle(img2, (a,b), r, (0,255,0), 2)\n",
    "\n",
    "cv2.imwrite('Images/GRAPHENE/bl_2/bl_a_2.5x_crc.jpg', img2)\n",
    "\n",
    "# width of circle calculation\n",
    "width2 = radius*2\n",
    "\n",
    "# pixel to micrometer ratio\n",
    "p2mm = 454.911/width2\n",
    "print('2.5x: ', p2mm, 'micrometers/pixel')"
   ]
  },
  {
   "cell_type": "markdown",
   "id": "f48f4965",
   "metadata": {},
   "source": [
    "## Micrometers / pixel for Quarter"
   ]
  },
  {
   "cell_type": "code",
   "execution_count": null,
   "id": "9ab63015",
   "metadata": {},
   "outputs": [],
   "source": [
    "# read in image & find threshold & contours\n",
    "imgQ = cv2.imread(\"Images/Quarter/Quarter.jpeg\")\n",
    "imgQ_hsv = cv2.cvtColor(imgQ, cv2.COLOR_BGR2HSV)\n",
    "imgQ_gray = cv2.cvtColor(imgQ, cv2.COLOR_BGR2GRAY)\n",
    "imgQ_gray = cv2.GaussianBlur(imgQ_gray, (7,7), 1)\n",
    "\n",
    "thresh = cv2.threshold(imgQ_gray,155,255,cv2.THRESH_BINARY)[1]\n",
    "cv2.imwrite('Images/Quarter/Quarter_BW.jpg', thresh)\n",
    "\n",
    "# edge detection\n",
    "edgedQ = cv2.Canny(thresh, 10, 50)\n",
    "\n",
    "# dilate to connect edgedQ\n",
    "edgedQ = cv2.dilate(edgedQ, None, iterations = 1)\n",
    "\n",
    "# find contours\n",
    "contours, hierarchy = cv2.findContours(edgedQ, cv2.RETR_EXTERNAL, cv2.CHAIN_APPROX_NONE)\n",
    "\n",
    "# quarter is second contour\n",
    "cntQ = cv2.drawContours(imgQ, contours, 2, (0,255,0), 3)\n",
    "\n",
    "# coordinates and dimensions of quarter in pixels\n",
    "x,y,w,h = cv2.boundingRect(contours[2])\n",
    "# draw bounding rectangle on quarter contour\n",
    "cv2.rectangle(cntQ,(x,y),(x+w,y+h),(255,0,0))\n",
    "cv2.imwrite(\"Images/Quarter/Quarter_contours.jpg\", cntQ)\n",
    "\n",
    "# quarter is 24260 in diameter \n",
    "p2mm_Q = 24260 / w   # pixels/micrometer\n",
    "print('Quarter: ', p2mm_Q, 'micrometers / pixel')"
   ]
  },
  {
   "cell_type": "code",
   "execution_count": null,
   "id": "4c9be6bd",
   "metadata": {},
   "outputs": [],
   "source": [
    "#loading in and resizing \n",
    "\n",
    "#edge Detection of 50x image of bilayer flake using Canny \n",
    "imgQ = cv2.imread(\"Images/Quarter/Quarter.jpeg\")\n",
    "\n",
    "scale_percent = 40 # percent of original size\n",
    "width = int(imgQ.shape[1] * scale_percent / 100)\n",
    "height = int(imgQ.shape[0] * scale_percent / 100)\n",
    "dim = (width, height)\n",
    "resized = cv2.resize(imgQ, dim, interpolation = cv2.INTER_AREA)"
   ]
  },
  {
   "cell_type": "code",
   "execution_count": null,
   "id": "1b7826ca",
   "metadata": {},
   "outputs": [],
   "source": [
    "#image cleaning before finding contours (Order of Operations from article by Rouizi Yacine: \n",
    "# https://dontrepeatyourself.org/post/edge-and-contour-detection-with-opencv-and-python/)\n",
    "\n",
    "#convert image to grayscale \n",
    "imgQ_gray = cv2.cvtColor(resized, cv2.COLOR_BGR2GRAY)\n",
    "\n",
    "#blur image\n",
    "imgQ_blur = cv2.GaussianBlur(imgQ_gray, (5,5), 1)\n",
    "\n",
    "# Canny Edge Detection \n",
    "imgQ_edges = cv2.Canny(image=imgQ_gray, threshold1=100, threshold2=200) \n",
    "\n",
    "#dilate image \n",
    "kernel = cv2.getStructuringElement(cv2.MORPH_RECT, (3,3))\n",
    "#gradient = cv2.morphologyEx(edges, cv2.MORPH_GRADIENT, kernel)\n",
    "dilate = cv2.dilate(imgQ_edges, kernel, iterations=1)\n",
    "#cv2.imshow('dilated', dilate)"
   ]
  },
  {
   "cell_type": "code",
   "execution_count": null,
   "id": "dbd89396",
   "metadata": {},
   "outputs": [],
   "source": [
    "# find contours of edges\n",
    "contours, heirarchy = cv2.findContours(dilate, cv2.RETR_EXTERNAL, cv2.CHAIN_APPROX_SIMPLE) \n",
    "cv2.drawContours(resized, contours, -1, (0,255,0), 1)\n",
    "\n",
    "#fit bounding rectangles for each contour and add them to the image\n",
    "print(str(len(contours)) + \" flakes were found in this image\")\n",
    "for contour in contours:\n",
    "    x,y,w,h = cv2.boundingRect(contour)\n",
    "    cv2.rectangle(imgQ,(x,y),(x+w, y+h),(255,0,0),1)\n",
    "    \n",
    "cv2.imwrite('Images/Quarter/Quarter_contours.jpg', resized)"
   ]
  }
 ],
 "metadata": {
  "kernelspec": {
   "display_name": "Python 3 (ipykernel)",
   "language": "python",
   "name": "python3"
  },
  "language_info": {
   "codemirror_mode": {
    "name": "ipython",
    "version": 3
   },
   "file_extension": ".py",
   "mimetype": "text/x-python",
   "name": "python",
   "nbconvert_exporter": "python",
   "pygments_lexer": "ipython3",
   "version": "3.9.5"
  }
 },
 "nbformat": 4,
 "nbformat_minor": 5
}
