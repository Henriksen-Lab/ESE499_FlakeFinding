{
 "cells": [
  {
   "cell_type": "markdown",
   "id": "42b8c75d",
   "metadata": {},
   "source": [
    "## Size Calculating ##\n",
    "\n",
    "Approach:\n",
    "1. \n",
    "2.\n",
    "3."
   ]
  },
  {
   "cell_type": "code",
   "execution_count": 3,
   "id": "954cb080",
   "metadata": {},
   "outputs": [],
   "source": [
    "# import python packages\n",
    "import cv2\n",
    "import numpy as np\n",
    "import math\n",
    "#from matplotlib import pyplot as plt"
   ]
  },
  {
   "cell_type": "code",
   "execution_count": null,
   "id": "b6c830d3",
   "metadata": {},
   "outputs": [],
   "source": [
    "# import & display photos\n",
    "img1 = cv2.imread(\"Images/Feasibility Study/blocks.jpg\")\n",
    "hsv = cv2.cvtColor(img1, cv2.COLOR_BGR2HSV)\n",
    "cv2.imshow('blocks', img1)\n",
    "cv2.waitKey(0)\n",
    "cv2.destroyAllWindows()"
   ]
  },
  {
   "cell_type": "code",
   "execution_count": null,
   "id": "35800957",
   "metadata": {},
   "outputs": [],
   "source": [
    "#edge Detection using canny\n",
    "edge_img = cv2.imread(\"Images/shapes-01.jpg\")\n",
    "scale_percent = 40 # percent of original size\n",
    "width = int(edge_img.shape[1] * scale_percent / 100)\n",
    "height = int(edge_img.shape[0] * scale_percent / 100)\n",
    "dim = (width, height)\n",
    "resized = cv2.resize(edge_img, dim, interpolation = cv2.INTER_AREA)\n",
    "#convert image to grayscale and blur image\n",
    "edge_gray = cv2.cvtColor(resized, cv2.COLOR_BGR2GRAY)\n",
    "edge_blur = cv2.GaussianBlur(edge_gray, (3,3), 0)\n",
    "# Canny Edge Detection\n",
    "edges = cv2.Canny(image=edge_blur, threshold1=100, threshold2=200) # Canny Edge Detection\n",
    "# Display Canny Edge Detection Image\n",
    "cv2.imshow('Canny Edge Detection', edges)\n",
    "cv2.imwrite('Images/edges.jpg', edges)\n",
    "cv2.waitKey(0)\n",
    "\n",
    "#edge detection using pillow\n",
    "\n",
    "from PIL import Image, ImageFilter\n",
    "  \n",
    "# Opening the image (R prefixed to string\n",
    "# in order to deal with '\\' in paths)\n",
    "image = Image.open(r\"Images/shapes-01.jpg\")\n",
    "  \n",
    "# Converting the image to grayscale, as edge detection \n",
    "# requires input image to be of mode = Grayscale (L)\n",
    "image = image.convert(\"L\")\n",
    "  \n",
    "# Detecting Edges on the Image using the argument ImageFilter.FIND_EDGES\n",
    "image = image.filter(ImageFilter.FIND_EDGES)\n",
    "  \n",
    "# Saving the Image Under the name Edge_Sample.png\n",
    "image.save(r\"Images/Edge_Sample.png\")"
   ]
  }
 ],
 "metadata": {
  "kernelspec": {
   "display_name": "Python 3 (ipykernel)",
   "language": "python",
   "name": "python3"
  },
  "language_info": {
   "codemirror_mode": {
    "name": "ipython",
    "version": 3
   },
   "file_extension": ".py",
   "mimetype": "text/x-python",
   "name": "python",
   "nbconvert_exporter": "python",
   "pygments_lexer": "ipython3",
   "version": "3.9.5"
  }
 },
 "nbformat": 4,
 "nbformat_minor": 5
}
