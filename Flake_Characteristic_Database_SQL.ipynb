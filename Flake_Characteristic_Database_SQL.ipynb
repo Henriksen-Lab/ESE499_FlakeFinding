{
 "cells": [
  {
   "cell_type": "markdown",
   "id": "d439b988",
   "metadata": {},
   "source": [
    "## Flake Characteristic Sorting Database"
   ]
  },
  {
   "cell_type": "code",
   "execution_count": 1,
   "id": "0e66eb48",
   "metadata": {},
   "outputs": [],
   "source": [
    "# take in folder of images - usable_flakes\n",
    "# for loop runs through each image\n",
    "# info needed: magnification, length of longest side, flake characterization"
   ]
  },
  {
   "cell_type": "code",
   "execution_count": 2,
   "id": "16881ef2",
   "metadata": {},
   "outputs": [],
   "source": [
    "# code: find edges\n",
    "# output: x,y,w,h of bounding rectangles around contours"
   ]
  },
  {
   "cell_type": "code",
   "execution_count": 3,
   "id": "fb145e7c",
   "metadata": {},
   "outputs": [],
   "source": [
    "# code: calculate length of longest side\n",
    "# output: length of longest side (number), bounding rect of contours w/in size range"
   ]
  },
  {
   "cell_type": "code",
   "execution_count": 4,
   "id": "dbdc3ee6",
   "metadata": {},
   "outputs": [],
   "source": [
    "# code: classify flake thickenss\n",
    "# output: image file (image), flake category (quantitative), magnification (quantitative)\n",
    "# save characterstics to img "
   ]
  },
  {
   "cell_type": "code",
   "execution_count": 5,
   "id": "7e22770d",
   "metadata": {},
   "outputs": [],
   "source": [
    "# write characteristics to csv file\n",
    "import csv\n",
    "\n",
    "file = open('flake_data.csv', 'w')\n",
    "\n",
    "writer = csv.writer(file)\n",
    "\n",
    "# for img in img_char: \n",
    "data = ['image', 'magnification', 'longest side', 'flake category']\n",
    "writer.writerow(data)\n",
    "\n",
    "file.close()"
   ]
  },
  {
   "cell_type": "code",
   "execution_count": 1,
   "id": "f7736067",
   "metadata": {},
   "outputs": [
    {
     "name": "stdout",
     "output_type": "stream",
     "text": [
      "<mysql.connector.connection.MySQLConnection object at 0x7fce25828310>\n"
     ]
    }
   ],
   "source": [
    "# connect to MySQL database\n",
    "import mysql.connector as mysql\n",
    "\n",
    "db = mysql.connect(\n",
    "    host=\"localhost\",\n",
    "    user=\"root\",\n",
    "    password=\"Kdaylearn23*\"\n",
    ")\n",
    "print(db)\n"
   ]
  },
  {
   "cell_type": "code",
   "execution_count": 2,
   "id": "c14565fe",
   "metadata": {
    "scrolled": true
   },
   "outputs": [],
   "source": [
    "# create databases\n",
    "cursor = db.cursor()\n",
    "#cursor.execute(\"CREATE DATABASE test\")\n",
    "\n",
    "# delete database\n",
    "#cursor.execute(\"DROP DATABASE test\")"
   ]
  },
  {
   "cell_type": "code",
   "execution_count": 3,
   "id": "d6b4460e",
   "metadata": {},
   "outputs": [],
   "source": [
    "# create table\n",
    "db = mysql.connect(\n",
    "    host=\"localhost\",\n",
    "    user=\"root\",\n",
    "    password=\"Kdaylearn23*\",\n",
    "    database = \"test\"\n",
    ")\n",
    "cursor = db.cursor()\n",
    "cursor.execute(\"SHOW TABLES\")\n",
    "tables = cursor.fetchall()\n"
   ]
  },
  {
   "cell_type": "code",
   "execution_count": 4,
   "id": "4904bd92",
   "metadata": {},
   "outputs": [
    {
     "name": "stdout",
     "output_type": "stream",
     "text": [
      "[('num', 'int', 'NO', 'PRI', None, 'auto_increment'), ('layer', 'varchar(255)', 'YES', '', None, ''), ('location', 'varchar(255)', 'YES', '', None, ''), ('size', 'varchar(255)', 'YES', '', None, '')]\n"
     ]
    }
   ],
   "source": [
    "# create table\n",
    "#cursor.execute(\"CREATE TABLE flakes (num INT AUTO_INCREMENT PRIMARY KEY, layer VARCHAR(255), size VARCHAR(255))\")\n",
    "\n",
    "# drop table\n",
    "# add columns\n",
    "#cursor.execute(\"ALTER TABLE flakes ADD COLUMN location VARCHAR(255)\")\n",
    "\n",
    "# drop columns\n",
    "#cursor.execute(\"ALTER TABLE flakes DROP COLUMN thickness\")\n",
    "\n",
    "# alter columns\n",
    "cursor.execute(\"ALTER TABLE flakes AUTO_INCREMENT = 1\")\n",
    "\n",
    "# show all columns\n",
    "cursor.execute(\"SHOW COLUMNS FROM flakes\")\n",
    "col_names = cursor.fetchall()\n",
    "print(col_names)"
   ]
  },
  {
   "cell_type": "code",
   "execution_count": 11,
   "id": "8cbfe968",
   "metadata": {},
   "outputs": [
    {
     "name": "stdout",
     "output_type": "stream",
     "text": [
      "1 record inserted\n"
     ]
    }
   ],
   "source": [
    "# add data to table\n",
    "# use a for loop to enter data for all \"usable\" flakes\n",
    "# INSERT INTO table_name (col names) VALUES (data)\n",
    "usable_flakes = [1] # folder of usable flake images\n",
    "for f in usable_flakes:\n",
    "    cursor.execute(\"ALTER TABLE flakes AUTO_INCREMENT = 1\")\n",
    "    sql = \"INSERT INTO flakes (layer, location, size) VALUES (%s, %s, %s)\"\n",
    "    val = (\"monolayer\",\"10-25mm\",\"region 1\")\n",
    "    cursor.execute(sql, val)\n",
    "    db.commit()\n",
    "print(cursor.rowcount, \"record inserted\")\n",
    "\n",
    "# delete all rows\n",
    "#sql = \"DELETE FROM flakes\"\n",
    "#cursor.execute(sql)\n",
    "#db.commit()\n"
   ]
  },
  {
   "cell_type": "code",
   "execution_count": 12,
   "id": "6cb935a9",
   "metadata": {},
   "outputs": [
    {
     "name": "stdout",
     "output_type": "stream",
     "text": [
      "[(1, 'monolayer', '10-25mm', 'region 1'), (2, 'monolayer', '10-25mm', 'region 1'), (3, 'monolayer', '10-25mm', 'region 1'), (4, 'monolayer', '10-25mm', 'region 1'), (5, 'monolayer', '10-25mm', 'region 1')]\n"
     ]
    }
   ],
   "source": [
    "# select data from database\n",
    "query = \"SELECT * FROM flakes\"\n",
    "cursor.execute(query)\n",
    "records = cursor.fetchall()\n",
    "print(records)\n"
   ]
  },
  {
   "cell_type": "code",
   "execution_count": null,
   "id": "5035783b",
   "metadata": {},
   "outputs": [],
   "source": []
  },
  {
   "cell_type": "code",
   "execution_count": null,
   "id": "7ff3e2f8",
   "metadata": {},
   "outputs": [],
   "source": []
  }
 ],
 "metadata": {
  "kernelspec": {
   "display_name": "Python 3 (ipykernel)",
   "language": "python",
   "name": "python3"
  },
  "language_info": {
   "codemirror_mode": {
    "name": "ipython",
    "version": 3
   },
   "file_extension": ".py",
   "mimetype": "text/x-python",
   "name": "python",
   "nbconvert_exporter": "python",
   "pygments_lexer": "ipython3",
   "version": "3.9.5"
  }
 },
 "nbformat": 4,
 "nbformat_minor": 5
}
