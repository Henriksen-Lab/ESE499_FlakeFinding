{
 "cells": [
  {
   "cell_type": "code",
   "execution_count": 3,
   "id": "126401f7",
   "metadata": {},
   "outputs": [],
   "source": [
    "import sqlite3\n",
    "import pandas as pd\n",
    "import os"
   ]
  },
  {
   "cell_type": "code",
   "execution_count": 4,
   "id": "f6872ef3",
   "metadata": {},
   "outputs": [],
   "source": [
    "### INPUT MAGNIFICATION AS \"_#x\"\n",
    "mag_using = \"_20x\"\n",
    "\n",
    "### INPUT FILE DIRECTORY (PATH)\n",
    "directory = \"Images/GRAPHENE/\" \n",
    "\n",
    "unfiltered_images = [];\n",
    "#Code from: https://www.folkstalk.com/2022/10/python-loop-through-all-folders-and-subfolders-with-code-examples.html\n",
    "for root, subdirectories, files in os. walk(directory):\n",
    "    for subdirectory in subdirectories:\n",
    "        for root2,sub2, files2 in os. walk(subdirectory):\n",
    "            print()\n",
    "    for file in files:\n",
    "        if mag_using in os. path. join(root, file): \n",
    "            unfiltered_images.append(str(os. path. join(root, file)))\n",
    "\n",
    "unfiltered_images = [i.replace('\\\\\\\\','////') for i in unfiltered_images]\n"
   ]
  },
  {
   "cell_type": "code",
   "execution_count": 23,
   "id": "1fb1fcff",
   "metadata": {},
   "outputs": [],
   "source": [
    "### CONNECT TO SQL DATABASE \"flake_characteristics\"\n",
    "con = sqlite3.connect('flake_characteristics'+mag_using)\n",
    "c = con.cursor()"
   ]
  },
  {
   "cell_type": "markdown",
   "id": "27f48980",
   "metadata": {},
   "source": [
    "# Selective Querying\n",
    "## Characteristics to choose from:  \n",
    "    1. image                                   \n",
    "    2. mag                                     \n",
    "    3. thickness                               \n",
    "    4. l_side range: [50, 200]                                             \n",
    "    5. location (see below)\n",
    "\n",
    "## Locations:\n",
    "    1. UL = Upper Left     2. UM = Upper Middle    3. UR = Upper Right\n",
    "    4. ML = Middle Left    5. MM = Middle Middle   6. MR = Middle Right\n",
    "    7. LL = Lower Left     8. LM = Lower Middle    9. LR = Lower Right\n",
    "\n",
    "## Thicknesses:\n",
    "    1. mono\n",
    "    2. bi\n",
    "    3. few"
   ]
  },
  {
   "cell_type": "code",
   "execution_count": 44,
   "id": "679a62da",
   "metadata": {},
   "outputs": [],
   "source": [
    "# Query all characteristics (*)\n",
    "df = pd.read_sql_query(\"SELECT * FROM flakes\", con)\n",
    "\n",
    "# print database\n",
    "#df.style"
   ]
  },
  {
   "cell_type": "code",
   "execution_count": 30,
   "id": "5cebb0f6",
   "metadata": {},
   "outputs": [],
   "source": [
    "# Query multiple characteristics (image, location -> characteristic 1, characteristic 2, ...)\n",
    "df = pd.read_sql_query(\"SELECT image, location FROM flakes\", con)\n",
    "\n",
    "# print database\n",
    "#df.style"
   ]
  },
  {
   "cell_type": "code",
   "execution_count": 35,
   "id": "ce522ea9",
   "metadata": {},
   "outputs": [],
   "source": [
    "# Query by l_side length (l_side < # -> any 50 < # < 200)\n",
    "df = pd.read_sql_query(\"SELECT * FROM flakes WHERE l_side < 100\", con)\n",
    "\n",
    "# print database\n",
    "#df.style"
   ]
  },
  {
   "cell_type": "code",
   "execution_count": 41,
   "id": "6408247c",
   "metadata": {},
   "outputs": [],
   "source": [
    "# Query by location (UL -> any location)\n",
    "df = pd.read_sql_query(\"SELECT * FROM flakes WHERE location = 'UL'\", con)\n",
    "\n",
    "# print database\n",
    "#df.style"
   ]
  },
  {
   "cell_type": "code",
   "execution_count": 43,
   "id": "b63bd944",
   "metadata": {},
   "outputs": [],
   "source": [
    "# Query by thickness (mono -> any thickness)\n",
    "df = pd.read_sql_query(\"SELECT * FROM flakes WHERE thickness = 'mono'\", con)\n",
    "\n",
    "# print database\n",
    "#df.style"
   ]
  },
  {
   "cell_type": "code",
   "execution_count": null,
   "id": "272830d4",
   "metadata": {},
   "outputs": [],
   "source": []
  }
 ],
 "metadata": {
  "kernelspec": {
   "display_name": "Python 3 (ipykernel)",
   "language": "python",
   "name": "python3"
  },
  "language_info": {
   "codemirror_mode": {
    "name": "ipython",
    "version": 3
   },
   "file_extension": ".py",
   "mimetype": "text/x-python",
   "name": "python",
   "nbconvert_exporter": "python",
   "pygments_lexer": "ipython3",
   "version": "3.9.5"
  }
 },
 "nbformat": 4,
 "nbformat_minor": 5
}
