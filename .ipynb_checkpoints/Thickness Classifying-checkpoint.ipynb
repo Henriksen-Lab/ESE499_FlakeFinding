{
 "cells": [
  {
   "cell_type": "markdown",
   "id": "3d5f6736",
   "metadata": {},
   "source": [
    "## Thickness Classifying ##\n",
    "#### Primary Author: Olivia Schriber\n",
    "Approach:\n",
    "1. \n",
    "2.\n",
    "3.\n",
    "\n"
   ]
  },
  {
   "cell_type": "code",
   "execution_count": 63,
   "id": "bb45266d",
   "metadata": {},
   "outputs": [],
   "source": [
    "import cv2\n",
    "import numpy as np\n",
    "import math\n",
    "import colorsys\n",
    "\n",
    "img1 = cv2.imread(\"Images/GRAPHENE/ml_2/mlg_a_10x.jpg\")\n"
   ]
  },
  {
   "attachments": {},
   "cell_type": "markdown",
   "id": "24825d17",
   "metadata": {},
   "source": []
  },
  {
   "cell_type": "code",
   "execution_count": 64,
   "id": "e16b962e",
   "metadata": {},
   "outputs": [
    {
     "name": "stdout",
     "output_type": "stream",
     "text": [
      "[121.0344827586207, 104.64622641509435, 212]\n",
      "[122.53521126760562, 100.58333333333333, 180]\n"
     ]
    },
    {
     "data": {
      "text/plain": [
       "True"
      ]
     },
     "execution_count": 64,
     "metadata": {},
     "output_type": "execute_result"
    }
   ],
   "source": [
    "hsv = cv2.cvtColor(img1, cv2.COLOR_BGR2HSV)\n",
    "# RGB what we want rgba(128,125,212,255)\n",
    "# RGB what we dont rgba(115,109,180,255)\n",
    "\n",
    "hsvwant=colorsys.rgb_to_hsv(128,125,212)\n",
    "hsvwant=list(hsvwant)\n",
    "hsvwant[0] = hsvwant[0]*180\n",
    "hsvwant[1]=hsvwant[1]*255\n",
    "hsvwant[0]*255\n",
    "print(hsvwant)\n",
    "\n",
    "\n",
    "hsvdontwant=colorsys.rgb_to_hsv(115,109,180)\n",
    "hsvdontwant=list(hsvdontwant)\n",
    "hsvdontwant[0] = hsvdontwant[0]*180\n",
    "hsvdontwant[1]=hsvdontwant[1]*255\n",
    "hsvdontwant[0]*255\n",
    "print(hsvdontwant) \n",
    "\n",
    "#monolayermask bl2\n",
    "#mask_contrast = cv2.inRange(hsv, (120, 104, 0), (122, 120, 255))\n",
    "\n",
    "#monolayermask \n",
    "mask_contrast = cv2.inRange(hsv, (120, 104, 0), (122, 120, 255))\n",
    "\n",
    "cv2.imwrite('Images/GRAPHENE/ml_2/mlg_a_10xMASKED.jpg', mask_contrast)\n"
   ]
  },
  {
   "cell_type": "raw",
   "id": "d96b9b4a",
   "metadata": {},
   "source": []
  },
  {
   "cell_type": "code",
   "execution_count": 65,
   "id": "2e2b6ea2",
   "metadata": {},
   "outputs": [
    {
     "data": {
      "text/plain": [
       "True"
      ]
     },
     "execution_count": 65,
     "metadata": {},
     "output_type": "execute_result"
    }
   ],
   "source": [
    "maskblur= cv2.blur(mask_contrast, (5,5))\n",
    "thresh = cv2.threshold(maskblur, 200, 255, cv2.THRESH_BINARY)[1]\n",
    "cv2.imwrite('Images/GRAPHENE/ml_2/mlg_a_10xTHRESHED.jpg', thresh)"
   ]
  },
  {
   "cell_type": "raw",
   "id": "f8df1df8",
   "metadata": {},
   "source": []
  },
  {
   "cell_type": "code",
   "execution_count": 66,
   "id": "8b809c49",
   "metadata": {},
   "outputs": [
    {
     "name": "stdout",
     "output_type": "stream",
     "text": [
      "Center : (1713, 1593)\n"
     ]
    },
    {
     "data": {
      "text/plain": [
       "True"
      ]
     },
     "execution_count": 66,
     "metadata": {},
     "output_type": "execute_result"
    }
   ],
   "source": [
    "M = cv2.moments(thresh)\n",
    "cX = int(M[\"m10\"]/M[\"m00\"])\n",
    "cY = int(M[\"m01\"]/M[\"m00\"])\n",
    "print(f'Center : ({cX}, {cY})') # center of mass\n",
    "\n",
    "img1wcirc = cv2.circle(img1, (cX,cY), 2, (0,0,255), 10) #draw center of mass (for specific color) circle on image\n",
    "cv2.imwrite('Images/GRAPHENE/ml_2/mlg_a_10xImgWithCOM.jpg',img1wcirc )\n"
   ]
  },
  {
   "cell_type": "code",
   "execution_count": null,
   "id": "9706d8d9",
   "metadata": {},
   "outputs": [],
   "source": []
  }
 ],
 "metadata": {
  "kernelspec": {
   "display_name": "Python 3 (ipykernel)",
   "language": "python",
   "name": "python3"
  },
  "language_info": {
   "codemirror_mode": {
    "name": "ipython",
    "version": 3
   },
   "file_extension": ".py",
   "mimetype": "text/x-python",
   "name": "python",
   "nbconvert_exporter": "python",
   "pygments_lexer": "ipython3",
   "version": "3.9.12"
  }
 },
 "nbformat": 4,
 "nbformat_minor": 5
}
