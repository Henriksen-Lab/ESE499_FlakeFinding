{
 "cells": [
  {
   "cell_type": "markdown",
   "id": "fa0a4bd7",
   "metadata": {},
   "source": [
    "**Feasibility Study Example**"
   ]
  },
  {
   "cell_type": "code",
   "execution_count": 1,
   "id": "ff429c09",
   "metadata": {},
   "outputs": [],
   "source": [
<<<<<<< Updated upstream
    "# import python packages"
=======
    "# import python pacakages"
>>>>>>> Stashed changes
   ]
  },
  {
   "cell_type": "code",
   "execution_count": 2,
   "id": "8d1b4945",
   "metadata": {},
   "outputs": [],
   "source": [
    "# import & display photos"
   ]
  },
  {
   "cell_type": "code",
   "execution_count": 3,
   "id": "e3e8d3fc",
   "metadata": {},
   "outputs": [],
   "source": [
    "# create masks & HSV ranges for red, yellow & green"
   ]
  },
  {
   "cell_type": "code",
   "execution_count": 4,
   "id": "1cd5922d",
   "metadata": {},
   "outputs": [],
   "source": [
    "# mask photos"
   ]
  },
  {
   "cell_type": "code",
   "execution_count": 5,
   "id": "b4b0c7c2",
   "metadata": {},
   "outputs": [],
   "source": [
    "# display original & masked photos"
   ]
  },
  {
   "cell_type": "code",
   "execution_count": null,
   "id": "0d325c24",
   "metadata": {},
   "outputs": [],
   "source": []
  }
 ],
 "metadata": {
  "kernelspec": {
<<<<<<< Updated upstream
   "display_name": "Python 3 (ipykernel)",
=======
   "display_name": "Python 3",
>>>>>>> Stashed changes
   "language": "python",
   "name": "python3"
  },
  "language_info": {
   "codemirror_mode": {
    "name": "ipython",
    "version": 3
   },
   "file_extension": ".py",
   "mimetype": "text/x-python",
   "name": "python",
   "nbconvert_exporter": "python",
   "pygments_lexer": "ipython3",
<<<<<<< Updated upstream
   "version": "3.9.5"
=======
   "version": "3.8.8"
>>>>>>> Stashed changes
  }
 },
 "nbformat": 4,
 "nbformat_minor": 5
}
